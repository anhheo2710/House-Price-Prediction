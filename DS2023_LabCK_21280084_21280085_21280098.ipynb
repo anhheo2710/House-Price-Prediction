{
 "cells": [
  {
   "cell_type": "markdown",
   "id": "3882a397",
   "metadata": {},
   "source": [
    "|Họ Tên                                 | MSSV              |Tỷ lệ đóng góp  |   \n",
    "|:--------------------------------------|:------------------|:---------------|\n",
    "|Đặng Thị Kim Anh                       |21280084           |30%             |\n",
    "|Lê Hồ Hoàng Anh                        |21280085           |40%             |\n",
    "|Nguyễn Phúc Loan                       |21280098           |30%             |"
   ]
  },
  {
   "cell_type": "markdown",
   "id": "55d9398d",
   "metadata": {},
   "source": [
    "# Web scraping"
   ]
  },
  {
   "cell_type": "markdown",
   "id": "d4aceeb1",
   "metadata": {},
   "source": [
    "#### Thêm các thư viện cần thiết vào để scrape data"
   ]
  },
  {
   "cell_type": "code",
   "execution_count": null,
   "id": "bb650f8c",
   "metadata": {},
   "outputs": [],
   "source": [
    "from bs4 import BeautifulSoup\n",
    "import urllib.request\n",
    "import requests\n",
    "import pandas as pd\n",
    "import numpy as np\n",
    "import re"
   ]
  },
  {
   "cell_type": "markdown",
   "id": "335ff6a4",
   "metadata": {},
   "source": [
    "#### Sử dụng BeautifulSoup, Regex để xử lý, tách các dữ liệu cần thiết từ trang web"
   ]
  },
  {
   "cell_type": "code",
   "execution_count": null,
   "id": "fb53b7b5",
   "metadata": {},
   "outputs": [],
   "source": [
    "def download_html(url):\n",
    "  with urllib.request.urlopen(url) as response:\n",
    "    html = response.read()\n",
    "    html = html.decode('utf-8')\n",
    "  response.close()\n",
    "  return html"
   ]
  },
  {
   "cell_type": "code",
   "execution_count": null,
   "id": "9f9b86dc",
   "metadata": {},
   "outputs": [],
   "source": [
    "url = \"https://batdongsan.vn/ban-nha/\"\n",
    "html = download_html(url)\n",
    "soup = BeautifulSoup(html, 'lxml')"
   ]
  },
  {
   "cell_type": "markdown",
   "id": "68a4bc1c",
   "metadata": {},
   "source": [
    "#### Hàm phía dưới dùng để tìm được số phòng ngủ, số phòng WC mà mỗi căn nhà có được, nếu không có giá trị sẽ mặc định là NaN value"
   ]
  },
  {
   "cell_type": "code",
   "execution_count": null,
   "id": "13860600",
   "metadata": {},
   "outputs": [],
   "source": [
    "def scrape_room(soup_link):\n",
    "  text1=soup_link.find('div',class_='body').text.replace('\\n','').replace('\\t','').strip()\n",
    "  text3=soup_link.find('div',class_='content').text.replace('\\n','').replace('\\r','').strip()\n",
    "  try:\n",
    "    so_PN=(re.search(r\"(\\d+)\\s*PN\", text1).group(1))\n",
    "  except:\n",
    "    try:\n",
    "      so_PN=(re.search(r\"(\\d+)PN\", text1).group(1))\n",
    "    except:\n",
    "      try:\n",
    "        so_PN=(re.search(r\"(\\d+)\\s*PN\", text3).group(1))\n",
    "      except:\n",
    "        try:\n",
    "          so_PN=(re.search(r\"(\\d+)PN\", text3).group(1))\n",
    "        except:\n",
    "          so_PN=(np.nan)\n",
    "  try:\n",
    "    so_WC=(re.search(r\"(\\d+)\\s*WC\", text1).group(1))\n",
    "  except:\n",
    "    try:\n",
    "      so_WC=(re.search(r\"(\\d+)WC\", text1).group(1))\n",
    "    except:\n",
    "      try:\n",
    "        so_WC=(re.search(r\"(\\d+)\\s*WC\", text3).group(1))\n",
    "      except:\n",
    "        try:\n",
    "          so_WC=(re.search(r\"(\\d+)WC\", text3).group(1))\n",
    "        except:\n",
    "          so_WC=(np.nan)\n",
    "  return so_PN, so_WC"
   ]
  },
  {
   "cell_type": "code",
   "execution_count": null,
   "id": "6888de79",
   "metadata": {},
   "outputs": [],
   "source": [
    "link = soup.find_all('div', {\"class\":\"name\"})\n",
    "link_pos = link[4].find('a').get('href')\n",
    "html_link = download_html(link_pos)\n",
    "soup_link = BeautifulSoup(html_link, 'lxml')\n",
    "scrape_room(soup_link)[0]"
   ]
  },
  {
   "cell_type": "markdown",
   "id": "4e58ac80",
   "metadata": {},
   "source": [
    "#### Hàm phía dưới dùng để scrape 1 tin được đăng lên web"
   ]
  },
  {
   "cell_type": "code",
   "execution_count": null,
   "id": "4fdd3238",
   "metadata": {},
   "outputs": [],
   "source": [
    "def scrape_block(house_block, pos):\n",
    "  houseb_data = {}\n",
    "  link = soup.find_all('div', {\"class\":\"name\"})\n",
    "  link_pos = link[pos].find('a').get('href')\n",
    "  html_link = download_html(link_pos)\n",
    "  soup_link = BeautifulSoup(html_link, 'lxml')\n",
    "\n",
    "  text1 = soup_link.find('div',{'class':'body'}).text.replace('\\n','').replace('\\t','').strip()\n",
    "  text3 = soup_link.find('div',{'class':'content'}).text.replace('\\n','').replace('\\r','').strip()\n",
    "\n",
    "  try:\n",
    "    houseb_data['ID'] = int(soup_link.find_all('ul',{'class':\"uk-list\"})[6].find('span').contents[1].strip())\n",
    "  except:\n",
    "    houseb_data['ID'] = np.nan\n",
    "\n",
    "  try:\n",
    "    houseb_data['acreage'] = int(soup.find_all('span', {'class':\"acreage\"})[pos].contents[0].strip().replace(\"m\",\"\"))\n",
    "  except:\n",
    "    houseb_data['acreage'] = np.nan\n",
    "\n",
    "  houseb_data['so_PN'] = scrape_room(soup_link)[0]\n",
    "\n",
    "  houseb_data['so_WC'] = scrape_room(soup_link)[1]\n",
    "\n",
    "  try:\n",
    "    houseb_data['price'] = soup.find_all('span', {'class':\"price\"})[pos].contents[0].strip()\n",
    "  except:\n",
    "    houseb_data['price'] = np.nan\n",
    "\n",
    "  try:\n",
    "    text = soup_link.find('div', {\"class\":\"content\"}).get_text().strip()\n",
    "    if \"mặt tiền\" in text:\n",
    "      houseb_data['frontage'] = 1\n",
    "    else:\n",
    "      houseb_data['frontage'] = 0\n",
    "  except:\n",
    "    houseb_data['frontage'] = np.nan\n",
    "\n",
    "  try:\n",
    "    houseb_data['area'] = str(soup_link.find('ul',{'class':\"uk-breadcrumb\"}).find_all('a')[3].contents[0].strip())\n",
    "  except:\n",
    "    houseb_data['area'] = np.nan\n",
    "\n",
    "  try:\n",
    "    houseb_data['city'] = str(soup_link.find('ul',{'class':\"uk-breadcrumb\"}).find_all('a')[2].contents[0].strip())\n",
    "  except:\n",
    "    houseb_data['city'] = np.nan\n",
    "\n",
    "  return houseb_data"
   ]
  },
  {
   "cell_type": "markdown",
   "id": "5699c5b9",
   "metadata": {},
   "source": [
    "#### Hàm scrape_house_page dùng để cào tất cả các tin ở trên 1 trang"
   ]
  },
  {
   "cell_type": "code",
   "execution_count": null,
   "id": "166cbeee",
   "metadata": {},
   "outputs": [],
   "source": [
    "def scrape_house_page(house_blocks):\n",
    "\n",
    "  page_house_data = []\n",
    "  num_blocks = len(house_blocks)\n",
    "\n",
    "  for block in range(num_blocks - 5):\n",
    "      page_house_data.append(scrape_block(house_blocks[block], block))\n",
    "\n",
    "  return page_house_data"
   ]
  },
  {
   "cell_type": "markdown",
   "id": "4cea793a",
   "metadata": {},
   "source": [
    "#### Chạy vòng lặp for để thu thập tất cả thông tin ở các trang kế tiếp\n",
    "#### Vì một số trang không thể thu thập nên ta chạy trong khoảng 1 đến 900 cách nhau 4 trang"
   ]
  },
  {
   "cell_type": "code",
   "execution_count": null,
   "id": "8d4b2c06",
   "metadata": {},
   "outputs": [],
   "source": [
    "house_data = []\n",
    "for i in range(1, 900, 4):\n",
    "    base_url =\"https://batdongsan.vn/ban-nha/\"\n",
    "    source = download_html(base_url + 'p' + str(i))\n",
    "    soup = BeautifulSoup(source, 'html.parser')\n",
    "    house_blocks = soup.find_all('div', {'class':\"body\"})\n",
    "    house_data.extend(scrape_house_page(house_blocks))\n",
    "house_data = pd.DataFrame(house_data)\n",
    "house_data"
   ]
  },
  {
   "cell_type": "code",
   "execution_count": 4,
   "id": "3b8b9cc4",
   "metadata": {},
   "outputs": [
    {
     "data": {
      "text/html": [
       "<div>\n",
       "<style scoped>\n",
       "    .dataframe tbody tr th:only-of-type {\n",
       "        vertical-align: middle;\n",
       "    }\n",
       "\n",
       "    .dataframe tbody tr th {\n",
       "        vertical-align: top;\n",
       "    }\n",
       "\n",
       "    .dataframe thead th {\n",
       "        text-align: right;\n",
       "    }\n",
       "</style>\n",
       "<table border=\"1\" class=\"dataframe\">\n",
       "  <thead>\n",
       "    <tr style=\"text-align: right;\">\n",
       "      <th></th>\n",
       "      <th>Unnamed: 0</th>\n",
       "      <th>ID</th>\n",
       "      <th>acreage</th>\n",
       "      <th>so_PN</th>\n",
       "      <th>so_WC</th>\n",
       "      <th>price</th>\n",
       "      <th>frontage</th>\n",
       "      <th>area</th>\n",
       "      <th>city</th>\n",
       "    </tr>\n",
       "  </thead>\n",
       "  <tbody>\n",
       "    <tr>\n",
       "      <th>0</th>\n",
       "      <td>0</td>\n",
       "      <td>269453.0</td>\n",
       "      <td>37.0</td>\n",
       "      <td>NaN</td>\n",
       "      <td>NaN</td>\n",
       "      <td>Thỏa thuận</td>\n",
       "      <td>1</td>\n",
       "      <td>Bắc Từ Liêm</td>\n",
       "      <td>Hà Nội</td>\n",
       "    </tr>\n",
       "    <tr>\n",
       "      <th>1</th>\n",
       "      <td>1</td>\n",
       "      <td>269452.0</td>\n",
       "      <td>20.0</td>\n",
       "      <td>NaN</td>\n",
       "      <td>NaN</td>\n",
       "      <td>Thỏa thuận</td>\n",
       "      <td>0</td>\n",
       "      <td>Bắc Từ Liêm</td>\n",
       "      <td>Hà Nội</td>\n",
       "    </tr>\n",
       "    <tr>\n",
       "      <th>2</th>\n",
       "      <td>2</td>\n",
       "      <td>269451.0</td>\n",
       "      <td>NaN</td>\n",
       "      <td>NaN</td>\n",
       "      <td>NaN</td>\n",
       "      <td>Thỏa thuận</td>\n",
       "      <td>0</td>\n",
       "      <td>Bắc Từ Liêm</td>\n",
       "      <td>Hà Nội</td>\n",
       "    </tr>\n",
       "    <tr>\n",
       "      <th>3</th>\n",
       "      <td>3</td>\n",
       "      <td>269450.0</td>\n",
       "      <td>NaN</td>\n",
       "      <td>NaN</td>\n",
       "      <td>NaN</td>\n",
       "      <td>Thỏa thuận</td>\n",
       "      <td>0</td>\n",
       "      <td>Bắc Từ Liêm</td>\n",
       "      <td>Hà Nội</td>\n",
       "    </tr>\n",
       "    <tr>\n",
       "      <th>4</th>\n",
       "      <td>4</td>\n",
       "      <td>269449.0</td>\n",
       "      <td>NaN</td>\n",
       "      <td>NaN</td>\n",
       "      <td>NaN</td>\n",
       "      <td>Thỏa thuận</td>\n",
       "      <td>0</td>\n",
       "      <td>Nam Từ Liêm</td>\n",
       "      <td>Hà Nội</td>\n",
       "    </tr>\n",
       "    <tr>\n",
       "      <th>...</th>\n",
       "      <td>...</td>\n",
       "      <td>...</td>\n",
       "      <td>...</td>\n",
       "      <td>...</td>\n",
       "      <td>...</td>\n",
       "      <td>...</td>\n",
       "      <td>...</td>\n",
       "      <td>...</td>\n",
       "      <td>...</td>\n",
       "    </tr>\n",
       "    <tr>\n",
       "      <th>2529</th>\n",
       "      <td>2529</td>\n",
       "      <td>250238.0</td>\n",
       "      <td>54.0</td>\n",
       "      <td>5.0</td>\n",
       "      <td>3.0</td>\n",
       "      <td>4.95 tỷ</td>\n",
       "      <td>0</td>\n",
       "      <td>Hoàng Mai</td>\n",
       "      <td>Hà Nội</td>\n",
       "    </tr>\n",
       "    <tr>\n",
       "      <th>2530</th>\n",
       "      <td>2530</td>\n",
       "      <td>250237.0</td>\n",
       "      <td>50.0</td>\n",
       "      <td>NaN</td>\n",
       "      <td>NaN</td>\n",
       "      <td>7.5 tỷ</td>\n",
       "      <td>0</td>\n",
       "      <td>Đống Đa</td>\n",
       "      <td>Hà Nội</td>\n",
       "    </tr>\n",
       "    <tr>\n",
       "      <th>2531</th>\n",
       "      <td>2531</td>\n",
       "      <td>250235.0</td>\n",
       "      <td>100.0</td>\n",
       "      <td>NaN</td>\n",
       "      <td>NaN</td>\n",
       "      <td>6 tỷ</td>\n",
       "      <td>0</td>\n",
       "      <td>Thủ Đức</td>\n",
       "      <td>TP Hồ Chí Minh</td>\n",
       "    </tr>\n",
       "    <tr>\n",
       "      <th>2532</th>\n",
       "      <td>2532</td>\n",
       "      <td>249841.0</td>\n",
       "      <td>52.0</td>\n",
       "      <td>3.0</td>\n",
       "      <td>2.0</td>\n",
       "      <td>3.48 tỷ</td>\n",
       "      <td>0</td>\n",
       "      <td>Quận 12</td>\n",
       "      <td>TP Hồ Chí Minh</td>\n",
       "    </tr>\n",
       "    <tr>\n",
       "      <th>2533</th>\n",
       "      <td>2533</td>\n",
       "      <td>247475.0</td>\n",
       "      <td>60.0</td>\n",
       "      <td>1.0</td>\n",
       "      <td>1.0</td>\n",
       "      <td>1.1 tỷ</td>\n",
       "      <td>0</td>\n",
       "      <td>Bình Chánh</td>\n",
       "      <td>TP Hồ Chí Minh</td>\n",
       "    </tr>\n",
       "  </tbody>\n",
       "</table>\n",
       "<p>2534 rows × 9 columns</p>\n",
       "</div>"
      ],
      "text/plain": [
       "      Unnamed: 0        ID  acreage  so_PN  so_WC       price  frontage  \\\n",
       "0              0  269453.0     37.0    NaN    NaN  Thỏa thuận         1   \n",
       "1              1  269452.0     20.0    NaN    NaN  Thỏa thuận         0   \n",
       "2              2  269451.0      NaN    NaN    NaN  Thỏa thuận         0   \n",
       "3              3  269450.0      NaN    NaN    NaN  Thỏa thuận         0   \n",
       "4              4  269449.0      NaN    NaN    NaN  Thỏa thuận         0   \n",
       "...          ...       ...      ...    ...    ...         ...       ...   \n",
       "2529        2529  250238.0     54.0    5.0    3.0     4.95 tỷ         0   \n",
       "2530        2530  250237.0     50.0    NaN    NaN      7.5 tỷ         0   \n",
       "2531        2531  250235.0    100.0    NaN    NaN        6 tỷ         0   \n",
       "2532        2532  249841.0     52.0    3.0    2.0     3.48 tỷ         0   \n",
       "2533        2533  247475.0     60.0    1.0    1.0      1.1 tỷ         0   \n",
       "\n",
       "             area            city  \n",
       "0     Bắc Từ Liêm          Hà Nội  \n",
       "1     Bắc Từ Liêm          Hà Nội  \n",
       "2     Bắc Từ Liêm          Hà Nội  \n",
       "3     Bắc Từ Liêm          Hà Nội  \n",
       "4     Nam Từ Liêm          Hà Nội  \n",
       "...           ...             ...  \n",
       "2529    Hoàng Mai          Hà Nội  \n",
       "2530      Đống Đa          Hà Nội  \n",
       "2531      Thủ Đức  TP Hồ Chí Minh  \n",
       "2532      Quận 12  TP Hồ Chí Minh  \n",
       "2533   Bình Chánh  TP Hồ Chí Minh  \n",
       "\n",
       "[2534 rows x 9 columns]"
      ]
     },
     "execution_count": 4,
     "metadata": {},
     "output_type": "execute_result"
    }
   ],
   "source": [
    "house_data.to_csv(\"house_data.csv\")\n",
    "house_data"
   ]
  },
  {
   "cell_type": "markdown",
   "id": "71e745f4",
   "metadata": {},
   "source": [
    "#### Phía trên là data thu được"
   ]
  },
  {
   "cell_type": "markdown",
   "id": "bac8c9a6",
   "metadata": {},
   "source": [
    "### Xử lý missing data bằng phương pháp MICE"
   ]
  },
  {
   "cell_type": "markdown",
   "id": "f4023eda",
   "metadata": {},
   "source": [
    "#### Thêm vào các thư viện cần thiết"
   ]
  },
  {
   "cell_type": "code",
   "execution_count": 2,
   "id": "1b448371",
   "metadata": {},
   "outputs": [],
   "source": [
    "import pandas as pd\n",
    "import numpy as np\n",
    "from fancyimpute import IterativeImputer\n",
    "import seaborn as sns"
   ]
  },
  {
   "cell_type": "markdown",
   "id": "56a61a97",
   "metadata": {},
   "source": [
    "#### Đọc lại data từ file csv đã được lưu sau khi thu thập từ trang web"
   ]
  },
  {
   "cell_type": "code",
   "execution_count": 3,
   "id": "a5e8022f",
   "metadata": {},
   "outputs": [],
   "source": [
    "house_data = pd.read_csv('house_data.csv')"
   ]
  },
  {
   "cell_type": "markdown",
   "id": "c0f16f5d",
   "metadata": {},
   "source": [
    "house_data"
   ]
  },
  {
   "cell_type": "markdown",
   "id": "4e8c5bb7",
   "metadata": {},
   "source": [
    "#### Loại bỏ cột 'Unnamed: 0' vì không cần thiết "
   ]
  },
  {
   "cell_type": "code",
   "execution_count": 5,
   "id": "41e885ed",
   "metadata": {},
   "outputs": [],
   "source": [
    "house_data = house_data.drop(columns='Unnamed: 0')"
   ]
  },
  {
   "cell_type": "code",
   "execution_count": 6,
   "id": "6c79ef37",
   "metadata": {},
   "outputs": [
    {
     "data": {
      "text/html": [
       "<div>\n",
       "<style scoped>\n",
       "    .dataframe tbody tr th:only-of-type {\n",
       "        vertical-align: middle;\n",
       "    }\n",
       "\n",
       "    .dataframe tbody tr th {\n",
       "        vertical-align: top;\n",
       "    }\n",
       "\n",
       "    .dataframe thead th {\n",
       "        text-align: right;\n",
       "    }\n",
       "</style>\n",
       "<table border=\"1\" class=\"dataframe\">\n",
       "  <thead>\n",
       "    <tr style=\"text-align: right;\">\n",
       "      <th></th>\n",
       "      <th>ID</th>\n",
       "      <th>acreage</th>\n",
       "      <th>so_PN</th>\n",
       "      <th>so_WC</th>\n",
       "      <th>price</th>\n",
       "      <th>frontage</th>\n",
       "      <th>area</th>\n",
       "      <th>city</th>\n",
       "    </tr>\n",
       "  </thead>\n",
       "  <tbody>\n",
       "    <tr>\n",
       "      <th>0</th>\n",
       "      <td>269453.0</td>\n",
       "      <td>37.0</td>\n",
       "      <td>NaN</td>\n",
       "      <td>NaN</td>\n",
       "      <td>Thỏa thuận</td>\n",
       "      <td>1</td>\n",
       "      <td>Bắc Từ Liêm</td>\n",
       "      <td>Hà Nội</td>\n",
       "    </tr>\n",
       "    <tr>\n",
       "      <th>1</th>\n",
       "      <td>269452.0</td>\n",
       "      <td>20.0</td>\n",
       "      <td>NaN</td>\n",
       "      <td>NaN</td>\n",
       "      <td>Thỏa thuận</td>\n",
       "      <td>0</td>\n",
       "      <td>Bắc Từ Liêm</td>\n",
       "      <td>Hà Nội</td>\n",
       "    </tr>\n",
       "    <tr>\n",
       "      <th>2</th>\n",
       "      <td>269451.0</td>\n",
       "      <td>NaN</td>\n",
       "      <td>NaN</td>\n",
       "      <td>NaN</td>\n",
       "      <td>Thỏa thuận</td>\n",
       "      <td>0</td>\n",
       "      <td>Bắc Từ Liêm</td>\n",
       "      <td>Hà Nội</td>\n",
       "    </tr>\n",
       "    <tr>\n",
       "      <th>3</th>\n",
       "      <td>269450.0</td>\n",
       "      <td>NaN</td>\n",
       "      <td>NaN</td>\n",
       "      <td>NaN</td>\n",
       "      <td>Thỏa thuận</td>\n",
       "      <td>0</td>\n",
       "      <td>Bắc Từ Liêm</td>\n",
       "      <td>Hà Nội</td>\n",
       "    </tr>\n",
       "    <tr>\n",
       "      <th>4</th>\n",
       "      <td>269449.0</td>\n",
       "      <td>NaN</td>\n",
       "      <td>NaN</td>\n",
       "      <td>NaN</td>\n",
       "      <td>Thỏa thuận</td>\n",
       "      <td>0</td>\n",
       "      <td>Nam Từ Liêm</td>\n",
       "      <td>Hà Nội</td>\n",
       "    </tr>\n",
       "    <tr>\n",
       "      <th>...</th>\n",
       "      <td>...</td>\n",
       "      <td>...</td>\n",
       "      <td>...</td>\n",
       "      <td>...</td>\n",
       "      <td>...</td>\n",
       "      <td>...</td>\n",
       "      <td>...</td>\n",
       "      <td>...</td>\n",
       "    </tr>\n",
       "    <tr>\n",
       "      <th>2529</th>\n",
       "      <td>250238.0</td>\n",
       "      <td>54.0</td>\n",
       "      <td>5.0</td>\n",
       "      <td>3.0</td>\n",
       "      <td>4.95 tỷ</td>\n",
       "      <td>0</td>\n",
       "      <td>Hoàng Mai</td>\n",
       "      <td>Hà Nội</td>\n",
       "    </tr>\n",
       "    <tr>\n",
       "      <th>2530</th>\n",
       "      <td>250237.0</td>\n",
       "      <td>50.0</td>\n",
       "      <td>NaN</td>\n",
       "      <td>NaN</td>\n",
       "      <td>7.5 tỷ</td>\n",
       "      <td>0</td>\n",
       "      <td>Đống Đa</td>\n",
       "      <td>Hà Nội</td>\n",
       "    </tr>\n",
       "    <tr>\n",
       "      <th>2531</th>\n",
       "      <td>250235.0</td>\n",
       "      <td>100.0</td>\n",
       "      <td>NaN</td>\n",
       "      <td>NaN</td>\n",
       "      <td>6 tỷ</td>\n",
       "      <td>0</td>\n",
       "      <td>Thủ Đức</td>\n",
       "      <td>TP Hồ Chí Minh</td>\n",
       "    </tr>\n",
       "    <tr>\n",
       "      <th>2532</th>\n",
       "      <td>249841.0</td>\n",
       "      <td>52.0</td>\n",
       "      <td>3.0</td>\n",
       "      <td>2.0</td>\n",
       "      <td>3.48 tỷ</td>\n",
       "      <td>0</td>\n",
       "      <td>Quận 12</td>\n",
       "      <td>TP Hồ Chí Minh</td>\n",
       "    </tr>\n",
       "    <tr>\n",
       "      <th>2533</th>\n",
       "      <td>247475.0</td>\n",
       "      <td>60.0</td>\n",
       "      <td>1.0</td>\n",
       "      <td>1.0</td>\n",
       "      <td>1.1 tỷ</td>\n",
       "      <td>0</td>\n",
       "      <td>Bình Chánh</td>\n",
       "      <td>TP Hồ Chí Minh</td>\n",
       "    </tr>\n",
       "  </tbody>\n",
       "</table>\n",
       "<p>2534 rows × 8 columns</p>\n",
       "</div>"
      ],
      "text/plain": [
       "            ID  acreage  so_PN  so_WC       price  frontage         area  \\\n",
       "0     269453.0     37.0    NaN    NaN  Thỏa thuận         1  Bắc Từ Liêm   \n",
       "1     269452.0     20.0    NaN    NaN  Thỏa thuận         0  Bắc Từ Liêm   \n",
       "2     269451.0      NaN    NaN    NaN  Thỏa thuận         0  Bắc Từ Liêm   \n",
       "3     269450.0      NaN    NaN    NaN  Thỏa thuận         0  Bắc Từ Liêm   \n",
       "4     269449.0      NaN    NaN    NaN  Thỏa thuận         0  Nam Từ Liêm   \n",
       "...        ...      ...    ...    ...         ...       ...          ...   \n",
       "2529  250238.0     54.0    5.0    3.0     4.95 tỷ         0    Hoàng Mai   \n",
       "2530  250237.0     50.0    NaN    NaN      7.5 tỷ         0      Đống Đa   \n",
       "2531  250235.0    100.0    NaN    NaN        6 tỷ         0      Thủ Đức   \n",
       "2532  249841.0     52.0    3.0    2.0     3.48 tỷ         0      Quận 12   \n",
       "2533  247475.0     60.0    1.0    1.0      1.1 tỷ         0   Bình Chánh   \n",
       "\n",
       "                city  \n",
       "0             Hà Nội  \n",
       "1             Hà Nội  \n",
       "2             Hà Nội  \n",
       "3             Hà Nội  \n",
       "4             Hà Nội  \n",
       "...              ...  \n",
       "2529          Hà Nội  \n",
       "2530          Hà Nội  \n",
       "2531  TP Hồ Chí Minh  \n",
       "2532  TP Hồ Chí Minh  \n",
       "2533  TP Hồ Chí Minh  \n",
       "\n",
       "[2534 rows x 8 columns]"
      ]
     },
     "execution_count": 6,
     "metadata": {},
     "output_type": "execute_result"
    }
   ],
   "source": [
    "house_data"
   ]
  },
  {
   "cell_type": "markdown",
   "id": "89170d32",
   "metadata": {},
   "source": [
    "#### Kiểm tra tần số bán nhà để xem các quận huyện nào có lượng nhà cần bán nhiều nhất"
   ]
  },
  {
   "cell_type": "code",
   "execution_count": 7,
   "id": "b58e5bc4",
   "metadata": {},
   "outputs": [
    {
     "name": "stdout",
     "output_type": "stream",
     "text": [
      "area\n",
      "Gò Vấp                   203\n",
      "Bình Tân                 168\n",
      "Bình Thạnh               162\n",
      "Tân Bình                 162\n",
      "Thủ Đức                  121\n",
      "Quận 7                   107\n",
      "Tân Phú                  105\n",
      "Hoàng Mai                 82\n",
      "Biên Hòa                  80\n",
      "Đống Đa                   76\n",
      "Hai Bà Trưng              70\n",
      "Cầu Giấy                  69\n",
      "Thanh Xuân                67\n",
      "Phú Nhuận                 64\n",
      "Quận 10                   62\n",
      "Hà Đông                   61\n",
      "Quận 12                   51\n",
      "Quận 9                    50\n",
      "Long Biên                 49\n",
      "Quận 8                    49\n",
      "Tây Hồ                    41\n",
      "Thanh Trì                 36\n",
      "Hải Châu                  34\n",
      "Huế                       33\n",
      "Tân Uyên                  33\n",
      "Thanh Khê                 32\n",
      "Quận 3                    32\n",
      "Hồng Bàng                 25\n",
      "Ba Đình                   24\n",
      "Nha Trang                 20\n",
      "Hóc Môn                   19\n",
      "Nam Từ Liêm               19\n",
      "Quận 1                    17\n",
      "Quận 4                    16\n",
      "Quận 11                   16\n",
      "Bắc Từ Liêm               15\n",
      "Quận 5                    13\n",
      "Sơn Trà                   13\n",
      "Vĩnh Cửu                  13\n",
      "Liên Chiểu                13\n",
      "Châu Thành                12\n",
      "Đà Lạt                    12\n",
      "Cẩm Lệ                    11\n",
      "Lê Chân                   11\n",
      "Ngũ Hành Sơn              11\n",
      "Từ Sơn                    10\n",
      "Châu Thành A               8\n",
      "Bình Chánh                 7\n",
      "Gia Lâm                    7\n",
      "An Dương                   7\n",
      "Quận 2                     6\n",
      "Phụng Hiệp                 6\n",
      "Thuận An                   6\n",
      "Đức Hòa                    6\n",
      "Bàu Bàng                   5\n",
      "Bến Cát                    5\n",
      "Hoài Đức                   5\n",
      "Hoàn Kiếm                  5\n",
      "Phú Vang                   4\n",
      "Hương Thủy                 4\n",
      "Đông Anh                   4\n",
      "Nhà Bè                     4\n",
      "Cần Giuộc                  4\n",
      "Quận 6                     4\n",
      "Thới Lai                   4\n",
      "Phú Quốc                   3\n",
      "Yên Bái                    2\n",
      "Châu Phú                   2\n",
      "Tân An                     2\n",
      "Dĩ An                      2\n",
      "Mê Linh                    2\n",
      "Sóc Trăng                  1\n",
      "Bến Lức                    1\n",
      "Buôn Ma Thuột              1\n",
      "Định Quán                  1\n",
      "Đất Đỏ                     1\n",
      "Phan Thiết                 1\n",
      "Phan Rang - Tháp Chàm      1\n",
      "Điện Bàn                   1\n",
      "Ninh Kiều                  1\n",
      "Vị Thanh                   1\n",
      "Vũng Tàu                   1\n",
      "Bù Đăng                    1\n",
      "Ninh Hòa                   1\n",
      "Ninh Bình                  1\n",
      "Sóc Sơn                    1\n",
      "Châu Đốc                   1\n",
      "Cà Mau                     1\n",
      "Nam Định                   1\n",
      "Tuy Phong                  1\n",
      "Lào Cai                    1\n",
      "Thường Tín                 1\n",
      "Hớn Quản                   1\n",
      "Hải An                     1\n",
      "Sa Pa                      1\n",
      "Hàm Thuận Nam              1\n",
      "Thanh Hóa                  1\n",
      "Ninh Sơn                   1\n"
     ]
    }
   ],
   "source": [
    "freq = house_data.groupby('area')['area'].agg('count').sort_values(ascending = False)\n",
    "print(freq.to_string())"
   ]
  },
  {
   "cell_type": "markdown",
   "id": "144a959c",
   "metadata": {},
   "source": [
    "#### kiểm tra tần số bán nhà để xem các tỉnh thành nào có lượng nhà cần bán nhiều nhất"
   ]
  },
  {
   "cell_type": "code",
   "execution_count": 8,
   "id": "2d8b6795",
   "metadata": {},
   "outputs": [
    {
     "name": "stdout",
     "output_type": "stream",
     "text": [
      "city\n",
      "TP Hồ Chí Minh     1438\n",
      "Hà Nội              634\n",
      "Đà Nẵng             114\n",
      "Đồng Nai             94\n",
      "Bình Dương           51\n",
      "Hải Phòng            44\n",
      "Thừa Thiên Huế       41\n",
      "Khánh Hòa            21\n",
      "Hậu Giang            15\n",
      "Long An              13\n",
      "Lâm Đồng             12\n",
      "Tiền Giang           10\n",
      "Bắc Ninh             10\n",
      "Cần Thơ               5\n",
      "An Giang              3\n",
      "Kiên Giang            3\n",
      "Bình Thuận            3\n",
      "Bà Rịa Vũng Tàu       2\n",
      "Ninh Thuận            2\n",
      "Bến Tre               2\n",
      "Yên Bái               2\n",
      "Bình Phước            2\n",
      "Lào Cai               2\n",
      "Nam Định              1\n",
      "Ninh Bình             1\n",
      "Quảng Nam             1\n",
      "Sóc Trăng             1\n",
      "Cà Mau                1\n",
      "Thanh Hóa             1\n",
      "Đắk Lắk               1\n"
     ]
    }
   ],
   "source": [
    "fre = house_data.groupby('city')['city'].agg('count').sort_values(ascending = False)\n",
    "print(fre.to_string())"
   ]
  },
  {
   "cell_type": "code",
   "execution_count": 9,
   "id": "17dfae78",
   "metadata": {},
   "outputs": [
    {
     "data": {
      "text/plain": [
       "0       Thỏa thuận\n",
       "1       Thỏa thuận\n",
       "2       Thỏa thuận\n",
       "3       Thỏa thuận\n",
       "4       Thỏa thuận\n",
       "           ...    \n",
       "2529       4.95 tỷ\n",
       "2530        7.5 tỷ\n",
       "2531          6 tỷ\n",
       "2532       3.48 tỷ\n",
       "2533        1.1 tỷ\n",
       "Name: price, Length: 2534, dtype: object"
      ]
     },
     "execution_count": 9,
     "metadata": {},
     "output_type": "execute_result"
    }
   ],
   "source": [
    "house_data['price']"
   ]
  },
  {
   "cell_type": "markdown",
   "id": "b1024291",
   "metadata": {},
   "source": [
    "#### Nhận thấy ở cột price, các giá trị gồm nhiều thành phần như 'Thỏa thuận', 'tỷ', 'triệu', 'nghìn' nên ta xử lý để thành đơn vị 'tỷ'\n",
    "#### Xem các giá trị 'Thỏa thuận' là các giá trị NaN"
   ]
  },
  {
   "cell_type": "code",
   "execution_count": 10,
   "id": "a71a02b6",
   "metadata": {},
   "outputs": [],
   "source": [
    "def convert_price(price):\n",
    "    if 'Thỏa thuận' in price:\n",
    "        price = np.nan\n",
    "    elif 'nghìn' in price:\n",
    "        price = float(price.replace('nghìn', ''))/1000\n",
    "    elif 'triệu' in price:\n",
    "        price = float(price.replace('triệu', ''))/1000000\n",
    "    else:\n",
    "        price = float(price.replace('tỷ', ''))\n",
    "    return price"
   ]
  },
  {
   "cell_type": "code",
   "execution_count": 17,
   "id": "e29ec087",
   "metadata": {},
   "outputs": [],
   "source": [
    "house_data.price = house_data.price.apply(lambda x: convert_price(x))"
   ]
  },
  {
   "cell_type": "code",
   "execution_count": 18,
   "id": "5e5caf65",
   "metadata": {},
   "outputs": [
    {
     "data": {
      "text/html": [
       "<div>\n",
       "<style scoped>\n",
       "    .dataframe tbody tr th:only-of-type {\n",
       "        vertical-align: middle;\n",
       "    }\n",
       "\n",
       "    .dataframe tbody tr th {\n",
       "        vertical-align: top;\n",
       "    }\n",
       "\n",
       "    .dataframe thead th {\n",
       "        text-align: right;\n",
       "    }\n",
       "</style>\n",
       "<table border=\"1\" class=\"dataframe\">\n",
       "  <thead>\n",
       "    <tr style=\"text-align: right;\">\n",
       "      <th></th>\n",
       "      <th>ID</th>\n",
       "      <th>acreage</th>\n",
       "      <th>so_PN</th>\n",
       "      <th>so_WC</th>\n",
       "      <th>price</th>\n",
       "      <th>frontage</th>\n",
       "      <th>area</th>\n",
       "      <th>city</th>\n",
       "    </tr>\n",
       "  </thead>\n",
       "  <tbody>\n",
       "    <tr>\n",
       "      <th>0</th>\n",
       "      <td>269453.0</td>\n",
       "      <td>37.0</td>\n",
       "      <td>NaN</td>\n",
       "      <td>NaN</td>\n",
       "      <td>NaN</td>\n",
       "      <td>1</td>\n",
       "      <td>Bắc Từ Liêm</td>\n",
       "      <td>Hà Nội</td>\n",
       "    </tr>\n",
       "    <tr>\n",
       "      <th>1</th>\n",
       "      <td>269452.0</td>\n",
       "      <td>20.0</td>\n",
       "      <td>NaN</td>\n",
       "      <td>NaN</td>\n",
       "      <td>NaN</td>\n",
       "      <td>0</td>\n",
       "      <td>Bắc Từ Liêm</td>\n",
       "      <td>Hà Nội</td>\n",
       "    </tr>\n",
       "    <tr>\n",
       "      <th>2</th>\n",
       "      <td>269451.0</td>\n",
       "      <td>NaN</td>\n",
       "      <td>NaN</td>\n",
       "      <td>NaN</td>\n",
       "      <td>NaN</td>\n",
       "      <td>0</td>\n",
       "      <td>Bắc Từ Liêm</td>\n",
       "      <td>Hà Nội</td>\n",
       "    </tr>\n",
       "    <tr>\n",
       "      <th>3</th>\n",
       "      <td>269450.0</td>\n",
       "      <td>NaN</td>\n",
       "      <td>NaN</td>\n",
       "      <td>NaN</td>\n",
       "      <td>NaN</td>\n",
       "      <td>0</td>\n",
       "      <td>Bắc Từ Liêm</td>\n",
       "      <td>Hà Nội</td>\n",
       "    </tr>\n",
       "    <tr>\n",
       "      <th>4</th>\n",
       "      <td>269449.0</td>\n",
       "      <td>NaN</td>\n",
       "      <td>NaN</td>\n",
       "      <td>NaN</td>\n",
       "      <td>NaN</td>\n",
       "      <td>0</td>\n",
       "      <td>Nam Từ Liêm</td>\n",
       "      <td>Hà Nội</td>\n",
       "    </tr>\n",
       "    <tr>\n",
       "      <th>...</th>\n",
       "      <td>...</td>\n",
       "      <td>...</td>\n",
       "      <td>...</td>\n",
       "      <td>...</td>\n",
       "      <td>...</td>\n",
       "      <td>...</td>\n",
       "      <td>...</td>\n",
       "      <td>...</td>\n",
       "    </tr>\n",
       "    <tr>\n",
       "      <th>2529</th>\n",
       "      <td>250238.0</td>\n",
       "      <td>54.0</td>\n",
       "      <td>5.0</td>\n",
       "      <td>3.0</td>\n",
       "      <td>4.95</td>\n",
       "      <td>0</td>\n",
       "      <td>Hoàng Mai</td>\n",
       "      <td>Hà Nội</td>\n",
       "    </tr>\n",
       "    <tr>\n",
       "      <th>2530</th>\n",
       "      <td>250237.0</td>\n",
       "      <td>50.0</td>\n",
       "      <td>NaN</td>\n",
       "      <td>NaN</td>\n",
       "      <td>7.50</td>\n",
       "      <td>0</td>\n",
       "      <td>Đống Đa</td>\n",
       "      <td>Hà Nội</td>\n",
       "    </tr>\n",
       "    <tr>\n",
       "      <th>2531</th>\n",
       "      <td>250235.0</td>\n",
       "      <td>100.0</td>\n",
       "      <td>NaN</td>\n",
       "      <td>NaN</td>\n",
       "      <td>6.00</td>\n",
       "      <td>0</td>\n",
       "      <td>Thủ Đức</td>\n",
       "      <td>TP Hồ Chí Minh</td>\n",
       "    </tr>\n",
       "    <tr>\n",
       "      <th>2532</th>\n",
       "      <td>249841.0</td>\n",
       "      <td>52.0</td>\n",
       "      <td>3.0</td>\n",
       "      <td>2.0</td>\n",
       "      <td>3.48</td>\n",
       "      <td>0</td>\n",
       "      <td>Quận 12</td>\n",
       "      <td>TP Hồ Chí Minh</td>\n",
       "    </tr>\n",
       "    <tr>\n",
       "      <th>2533</th>\n",
       "      <td>247475.0</td>\n",
       "      <td>60.0</td>\n",
       "      <td>1.0</td>\n",
       "      <td>1.0</td>\n",
       "      <td>1.10</td>\n",
       "      <td>0</td>\n",
       "      <td>Bình Chánh</td>\n",
       "      <td>TP Hồ Chí Minh</td>\n",
       "    </tr>\n",
       "  </tbody>\n",
       "</table>\n",
       "<p>2534 rows × 8 columns</p>\n",
       "</div>"
      ],
      "text/plain": [
       "            ID  acreage  so_PN  so_WC  price  frontage         area  \\\n",
       "0     269453.0     37.0    NaN    NaN    NaN         1  Bắc Từ Liêm   \n",
       "1     269452.0     20.0    NaN    NaN    NaN         0  Bắc Từ Liêm   \n",
       "2     269451.0      NaN    NaN    NaN    NaN         0  Bắc Từ Liêm   \n",
       "3     269450.0      NaN    NaN    NaN    NaN         0  Bắc Từ Liêm   \n",
       "4     269449.0      NaN    NaN    NaN    NaN         0  Nam Từ Liêm   \n",
       "...        ...      ...    ...    ...    ...       ...          ...   \n",
       "2529  250238.0     54.0    5.0    3.0   4.95         0    Hoàng Mai   \n",
       "2530  250237.0     50.0    NaN    NaN   7.50         0      Đống Đa   \n",
       "2531  250235.0    100.0    NaN    NaN   6.00         0      Thủ Đức   \n",
       "2532  249841.0     52.0    3.0    2.0   3.48         0      Quận 12   \n",
       "2533  247475.0     60.0    1.0    1.0   1.10         0   Bình Chánh   \n",
       "\n",
       "                city  \n",
       "0             Hà Nội  \n",
       "1             Hà Nội  \n",
       "2             Hà Nội  \n",
       "3             Hà Nội  \n",
       "4             Hà Nội  \n",
       "...              ...  \n",
       "2529          Hà Nội  \n",
       "2530          Hà Nội  \n",
       "2531  TP Hồ Chí Minh  \n",
       "2532  TP Hồ Chí Minh  \n",
       "2533  TP Hồ Chí Minh  \n",
       "\n",
       "[2534 rows x 8 columns]"
      ]
     },
     "execution_count": 18,
     "metadata": {},
     "output_type": "execute_result"
    }
   ],
   "source": [
    "house_data"
   ]
  },
  {
   "cell_type": "markdown",
   "id": "70760788",
   "metadata": {},
   "source": [
    "#### Kiểm tra house_data"
   ]
  },
  {
   "cell_type": "code",
   "execution_count": 19,
   "id": "096bceee",
   "metadata": {},
   "outputs": [
    {
     "data": {
      "text/plain": [
       "<Axes: >"
      ]
     },
     "execution_count": 19,
     "metadata": {},
     "output_type": "execute_result"
    },
    {
     "data": {
      "image/png": "[encoded data removed]",
      "text/plain": [
       "<Figure size 640x480 with 1 Axes>"
      ]
     },
     "metadata": {},
     "output_type": "display_data"
    }
   ],
   "source": [
    "sns.heatmap(house_data.isnull(),yticklabels = False,cbar = False)"
   ]
  },
  {
   "cell_type": "code",
   "execution_count": 20,
   "id": "37022583",
   "metadata": {},
   "outputs": [
    {
     "name": "stdout",
     "output_type": "stream",
     "text": [
      "<class 'pandas.core.frame.DataFrame'>\n",
      "RangeIndex: 2534 entries, 0 to 2533\n",
      "Data columns (total 8 columns):\n",
      " #   Column    Non-Null Count  Dtype  \n",
      "---  ------    --------------  -----  \n",
      " 0   ID        2530 non-null   float64\n",
      " 1   acreage   2288 non-null   float64\n",
      " 2   so_PN     1769 non-null   float64\n",
      " 3   so_WC     1617 non-null   float64\n",
      " 4   price     2278 non-null   float64\n",
      " 5   frontage  2534 non-null   int64  \n",
      " 6   area      2530 non-null   object \n",
      " 7   city      2530 non-null   object \n",
      "dtypes: float64(5), int64(1), object(2)\n",
      "memory usage: 158.5+ KB\n"
     ]
    }
   ],
   "source": [
    "house_data.info()"
   ]
  },
  {
   "cell_type": "markdown",
   "id": "9a83b4ca",
   "metadata": {},
   "source": [
    "#### Theo quan sát, các feature như 'ID', 'frontage', 'area' 'city' không nhận giá trị NaN hoặc NULL tại tất cả nên ta chỉ xét trên các cột còn lại"
   ]
  },
  {
   "cell_type": "code",
   "execution_count": 21,
   "id": "669fe363",
   "metadata": {},
   "outputs": [
    {
     "data": {
      "text/html": [
       "<div>\n",
       "<style scoped>\n",
       "    .dataframe tbody tr th:only-of-type {\n",
       "        vertical-align: middle;\n",
       "    }\n",
       "\n",
       "    .dataframe tbody tr th {\n",
       "        vertical-align: top;\n",
       "    }\n",
       "\n",
       "    .dataframe thead th {\n",
       "        text-align: right;\n",
       "    }\n",
       "</style>\n",
       "<table border=\"1\" class=\"dataframe\">\n",
       "  <thead>\n",
       "    <tr style=\"text-align: right;\">\n",
       "      <th></th>\n",
       "      <th>acreage</th>\n",
       "      <th>so_PN</th>\n",
       "      <th>so_WC</th>\n",
       "      <th>price</th>\n",
       "    </tr>\n",
       "  </thead>\n",
       "  <tbody>\n",
       "    <tr>\n",
       "      <th>0</th>\n",
       "      <td>37.0</td>\n",
       "      <td>NaN</td>\n",
       "      <td>NaN</td>\n",
       "      <td>NaN</td>\n",
       "    </tr>\n",
       "    <tr>\n",
       "      <th>1</th>\n",
       "      <td>20.0</td>\n",
       "      <td>NaN</td>\n",
       "      <td>NaN</td>\n",
       "      <td>NaN</td>\n",
       "    </tr>\n",
       "    <tr>\n",
       "      <th>2</th>\n",
       "      <td>NaN</td>\n",
       "      <td>NaN</td>\n",
       "      <td>NaN</td>\n",
       "      <td>NaN</td>\n",
       "    </tr>\n",
       "    <tr>\n",
       "      <th>3</th>\n",
       "      <td>NaN</td>\n",
       "      <td>NaN</td>\n",
       "      <td>NaN</td>\n",
       "      <td>NaN</td>\n",
       "    </tr>\n",
       "    <tr>\n",
       "      <th>4</th>\n",
       "      <td>NaN</td>\n",
       "      <td>NaN</td>\n",
       "      <td>NaN</td>\n",
       "      <td>NaN</td>\n",
       "    </tr>\n",
       "    <tr>\n",
       "      <th>...</th>\n",
       "      <td>...</td>\n",
       "      <td>...</td>\n",
       "      <td>...</td>\n",
       "      <td>...</td>\n",
       "    </tr>\n",
       "    <tr>\n",
       "      <th>2529</th>\n",
       "      <td>54.0</td>\n",
       "      <td>5.0</td>\n",
       "      <td>3.0</td>\n",
       "      <td>4.95</td>\n",
       "    </tr>\n",
       "    <tr>\n",
       "      <th>2530</th>\n",
       "      <td>50.0</td>\n",
       "      <td>NaN</td>\n",
       "      <td>NaN</td>\n",
       "      <td>7.50</td>\n",
       "    </tr>\n",
       "    <tr>\n",
       "      <th>2531</th>\n",
       "      <td>100.0</td>\n",
       "      <td>NaN</td>\n",
       "      <td>NaN</td>\n",
       "      <td>6.00</td>\n",
       "    </tr>\n",
       "    <tr>\n",
       "      <th>2532</th>\n",
       "      <td>52.0</td>\n",
       "      <td>3.0</td>\n",
       "      <td>2.0</td>\n",
       "      <td>3.48</td>\n",
       "    </tr>\n",
       "    <tr>\n",
       "      <th>2533</th>\n",
       "      <td>60.0</td>\n",
       "      <td>1.0</td>\n",
       "      <td>1.0</td>\n",
       "      <td>1.10</td>\n",
       "    </tr>\n",
       "  </tbody>\n",
       "</table>\n",
       "<p>2534 rows × 4 columns</p>\n",
       "</div>"
      ],
      "text/plain": [
       "      acreage  so_PN  so_WC  price\n",
       "0        37.0    NaN    NaN    NaN\n",
       "1        20.0    NaN    NaN    NaN\n",
       "2         NaN    NaN    NaN    NaN\n",
       "3         NaN    NaN    NaN    NaN\n",
       "4         NaN    NaN    NaN    NaN\n",
       "...       ...    ...    ...    ...\n",
       "2529     54.0    5.0    3.0   4.95\n",
       "2530     50.0    NaN    NaN   7.50\n",
       "2531    100.0    NaN    NaN   6.00\n",
       "2532     52.0    3.0    2.0   3.48\n",
       "2533     60.0    1.0    1.0   1.10\n",
       "\n",
       "[2534 rows x 4 columns]"
      ]
     },
     "execution_count": 21,
     "metadata": {},
     "output_type": "execute_result"
    }
   ],
   "source": [
    "house_data_train = house_data.loc[:, ['acreage', 'so_PN', 'so_WC', 'price']]\n",
    "house_data_train"
   ]
  },
  {
   "cell_type": "code",
   "execution_count": 22,
   "id": "5c1006e4",
   "metadata": {},
   "outputs": [],
   "source": [
    "X_train = house_data_train.drop(columns = 'price')\n",
    "y_train = house_data_train['price']"
   ]
  },
  {
   "cell_type": "markdown",
   "id": "dca162d8",
   "metadata": {},
   "source": [
    "#### Sử dụng thư viện IterativeImputer để xử lý missing data"
   ]
  },
  {
   "cell_type": "code",
   "execution_count": 23,
   "id": "dd135640",
   "metadata": {},
   "outputs": [
    {
     "data": {
      "text/html": [
       "<style>#sk-container-id-1 {color: black;background-color: white;}#sk-container-id-1 pre{padding: 0;}#sk-container-id-1 div.sk-toggleable {background-color: white;}#sk-container-id-1 label.sk-toggleable__label {cursor: pointer;display: block;width: 100%;margin-bottom: 0;padding: 0.3em;box-sizing: border-box;text-align: center;}#sk-container-id-1 label.sk-toggleable__label-arrow:before {content: \"▸\";float: left;margin-right: 0.25em;color: #696969;}#sk-container-id-1 label.sk-toggleable__label-arrow:hover:before {color: black;}#sk-container-id-1 div.sk-estimator:hover label.sk-toggleable__label-arrow:before {color: black;}#sk-container-id-1 div.sk-toggleable__content {max-height: 0;max-width: 0;overflow: hidden;text-align: left;background-color: #f0f8ff;}#sk-container-id-1 div.sk-toggleable__content pre {margin: 0.2em;color: black;border-radius: 0.25em;background-color: #f0f8ff;}#sk-container-id-1 input.sk-toggleable__control:checked~div.sk-toggleable__content {max-height: 200px;max-width: 100%;overflow: auto;}#sk-container-id-1 input.sk-toggleable__control:checked~label.sk-toggleable__label-arrow:before {content: \"▾\";}#sk-container-id-1 div.sk-estimator input.sk-toggleable__control:checked~label.sk-toggleable__label {background-color: #d4ebff;}#sk-container-id-1 div.sk-label input.sk-toggleable__control:checked~label.sk-toggleable__label {background-color: #d4ebff;}#sk-container-id-1 input.sk-hidden--visually {border: 0;clip: rect(1px 1px 1px 1px);clip: rect(1px, 1px, 1px, 1px);height: 1px;margin: -1px;overflow: hidden;padding: 0;position: absolute;width: 1px;}#sk-container-id-1 div.sk-estimator {font-family: monospace;background-color: #f0f8ff;border: 1px dotted black;border-radius: 0.25em;box-sizing: border-box;margin-bottom: 0.5em;}#sk-container-id-1 div.sk-estimator:hover {background-color: #d4ebff;}#sk-container-id-1 div.sk-parallel-item::after {content: \"\";width: 100%;border-bottom: 1px solid gray;flex-grow: 1;}#sk-container-id-1 div.sk-label:hover label.sk-toggleable__label {background-color: #d4ebff;}#sk-container-id-1 div.sk-serial::before {content: \"\";position: absolute;border-left: 1px solid gray;box-sizing: border-box;top: 0;bottom: 0;left: 50%;z-index: 0;}#sk-container-id-1 div.sk-serial {display: flex;flex-direction: column;align-items: center;background-color: white;padding-right: 0.2em;padding-left: 0.2em;position: relative;}#sk-container-id-1 div.sk-item {position: relative;z-index: 1;}#sk-container-id-1 div.sk-parallel {display: flex;align-items: stretch;justify-content: center;background-color: white;position: relative;}#sk-container-id-1 div.sk-item::before, #sk-container-id-1 div.sk-parallel-item::before {content: \"\";position: absolute;border-left: 1px solid gray;box-sizing: border-box;top: 0;bottom: 0;left: 50%;z-index: -1;}#sk-container-id-1 div.sk-parallel-item {display: flex;flex-direction: column;z-index: 1;position: relative;background-color: white;}#sk-container-id-1 div.sk-parallel-item:first-child::after {align-self: flex-end;width: 50%;}#sk-container-id-1 div.sk-parallel-item:last-child::after {align-self: flex-start;width: 50%;}#sk-container-id-1 div.sk-parallel-item:only-child::after {width: 0;}#sk-container-id-1 div.sk-dashed-wrapped {border: 1px dashed gray;margin: 0 0.4em 0.5em 0.4em;box-sizing: border-box;padding-bottom: 0.4em;background-color: white;}#sk-container-id-1 div.sk-label label {font-family: monospace;font-weight: bold;display: inline-block;line-height: 1.2em;}#sk-container-id-1 div.sk-label-container {text-align: center;}#sk-container-id-1 div.sk-container {/* jupyter's `normalize.less` sets `[hidden] { display: none; }` but bootstrap.min.css set `[hidden] { display: none !important; }` so we also need the `!important` here to be able to override the default hidden behavior on the sphinx rendered scikit-learn.org. See: https://github.com/scikit-learn/scikit-learn/issues/21755 */display: inline-block !important;position: relative;}#sk-container-id-1 div.sk-text-repr-fallback {display: none;}</style><div id=\"sk-container-id-1\" class=\"sk-top-container\"><div class=\"sk-text-repr-fallback\"><pre>IterativeImputer(random_state=100)</pre><b>In a Jupyter environment, please rerun this cell to show the HTML representation or trust the notebook. <br />On GitHub, the HTML representation is unable to render, please try loading this page with nbviewer.org.</b></div><div class=\"sk-container\" hidden><div class=\"sk-item\"><div class=\"sk-estimator sk-toggleable\"><input class=\"sk-toggleable__control sk-hidden--visually\" id=\"sk-estimator-id-1\" type=\"checkbox\" checked><label for=\"sk-estimator-id-1\" class=\"sk-toggleable__label sk-toggleable__label-arrow\">IterativeImputer</label><div class=\"sk-toggleable__content\"><pre>IterativeImputer(random_state=100)</pre></div></div></div></div></div>"
      ],
      "text/plain": [
       "IterativeImputer(random_state=100)"
      ]
     },
     "execution_count": 23,
     "metadata": {},
     "output_type": "execute_result"
    }
   ],
   "source": [
    "mice_imputer = IterativeImputer(random_state=100, max_iter = 10)\n",
    "mice_imputer.fit(house_data_train)"
   ]
  },
  {
   "cell_type": "code",
   "execution_count": 24,
   "id": "8c99450e",
   "metadata": {},
   "outputs": [
    {
     "data": {
      "text/plain": [
       "array([[3.70000000e+01, 3.58285273e+00, 3.54162609e+00, 1.49414778e+08],\n",
       "       [2.00000000e+01, 3.52142864e+00, 3.50260645e+00, 1.49414778e+08],\n",
       "       [7.70041626e+01, 3.72739504e+00, 3.63344656e+00, 1.49414778e+08],\n",
       "       ...,\n",
       "       [1.00000000e+02, 3.81036887e+00, 3.68657166e+00, 6.00000000e+00],\n",
       "       [5.20000000e+01, 3.00000000e+00, 2.00000000e+00, 3.48000000e+00],\n",
       "       [6.00000000e+01, 1.00000000e+00, 1.00000000e+00, 1.10000000e+00]])"
      ]
     },
     "execution_count": 24,
     "metadata": {},
     "output_type": "execute_result"
    }
   ],
   "source": [
    "house_data_imputer = mice_imputer.transform(house_data_train)\n",
    "house_data_imputer"
   ]
  },
  {
   "cell_type": "code",
   "execution_count": 25,
   "id": "0b75bbf9",
   "metadata": {},
   "outputs": [],
   "source": [
    "house_data.loc[:, ['acreage', 'so_PN', 'so_WC', 'price']] = house_data_imputer"
   ]
  },
  {
   "cell_type": "markdown",
   "id": "a453df49",
   "metadata": {},
   "source": [
    "#### Data thu được sau khi xử lý MICE"
   ]
  },
  {
   "cell_type": "code",
   "execution_count": 26,
   "id": "1e512000",
   "metadata": {},
   "outputs": [
    {
     "data": {
      "text/html": [
       "<div>\n",
       "<style scoped>\n",
       "    .dataframe tbody tr th:only-of-type {\n",
       "        vertical-align: middle;\n",
       "    }\n",
       "\n",
       "    .dataframe tbody tr th {\n",
       "        vertical-align: top;\n",
       "    }\n",
       "\n",
       "    .dataframe thead th {\n",
       "        text-align: right;\n",
       "    }\n",
       "</style>\n",
       "<table border=\"1\" class=\"dataframe\">\n",
       "  <thead>\n",
       "    <tr style=\"text-align: right;\">\n",
       "      <th></th>\n",
       "      <th>ID</th>\n",
       "      <th>acreage</th>\n",
       "      <th>so_PN</th>\n",
       "      <th>so_WC</th>\n",
       "      <th>price</th>\n",
       "      <th>frontage</th>\n",
       "      <th>area</th>\n",
       "      <th>city</th>\n",
       "    </tr>\n",
       "  </thead>\n",
       "  <tbody>\n",
       "    <tr>\n",
       "      <th>0</th>\n",
       "      <td>269453.0</td>\n",
       "      <td>37.000000</td>\n",
       "      <td>3.582853</td>\n",
       "      <td>3.541626</td>\n",
       "      <td>1.494148e+08</td>\n",
       "      <td>1</td>\n",
       "      <td>Bắc Từ Liêm</td>\n",
       "      <td>Hà Nội</td>\n",
       "    </tr>\n",
       "    <tr>\n",
       "      <th>1</th>\n",
       "      <td>269452.0</td>\n",
       "      <td>20.000000</td>\n",
       "      <td>3.521429</td>\n",
       "      <td>3.502606</td>\n",
       "      <td>1.494148e+08</td>\n",
       "      <td>0</td>\n",
       "      <td>Bắc Từ Liêm</td>\n",
       "      <td>Hà Nội</td>\n",
       "    </tr>\n",
       "    <tr>\n",
       "      <th>2</th>\n",
       "      <td>269451.0</td>\n",
       "      <td>77.004163</td>\n",
       "      <td>3.727395</td>\n",
       "      <td>3.633447</td>\n",
       "      <td>1.494148e+08</td>\n",
       "      <td>0</td>\n",
       "      <td>Bắc Từ Liêm</td>\n",
       "      <td>Hà Nội</td>\n",
       "    </tr>\n",
       "    <tr>\n",
       "      <th>3</th>\n",
       "      <td>269450.0</td>\n",
       "      <td>77.004163</td>\n",
       "      <td>3.727395</td>\n",
       "      <td>3.633447</td>\n",
       "      <td>1.494148e+08</td>\n",
       "      <td>0</td>\n",
       "      <td>Bắc Từ Liêm</td>\n",
       "      <td>Hà Nội</td>\n",
       "    </tr>\n",
       "    <tr>\n",
       "      <th>4</th>\n",
       "      <td>269449.0</td>\n",
       "      <td>77.004163</td>\n",
       "      <td>3.727395</td>\n",
       "      <td>3.633447</td>\n",
       "      <td>1.494148e+08</td>\n",
       "      <td>0</td>\n",
       "      <td>Nam Từ Liêm</td>\n",
       "      <td>Hà Nội</td>\n",
       "    </tr>\n",
       "    <tr>\n",
       "      <th>...</th>\n",
       "      <td>...</td>\n",
       "      <td>...</td>\n",
       "      <td>...</td>\n",
       "      <td>...</td>\n",
       "      <td>...</td>\n",
       "      <td>...</td>\n",
       "      <td>...</td>\n",
       "      <td>...</td>\n",
       "    </tr>\n",
       "    <tr>\n",
       "      <th>2529</th>\n",
       "      <td>250238.0</td>\n",
       "      <td>54.000000</td>\n",
       "      <td>5.000000</td>\n",
       "      <td>3.000000</td>\n",
       "      <td>4.950000e+00</td>\n",
       "      <td>0</td>\n",
       "      <td>Hoàng Mai</td>\n",
       "      <td>Hà Nội</td>\n",
       "    </tr>\n",
       "    <tr>\n",
       "      <th>2530</th>\n",
       "      <td>250237.0</td>\n",
       "      <td>50.000000</td>\n",
       "      <td>3.629710</td>\n",
       "      <td>3.571808</td>\n",
       "      <td>7.500000e+00</td>\n",
       "      <td>0</td>\n",
       "      <td>Đống Đa</td>\n",
       "      <td>Hà Nội</td>\n",
       "    </tr>\n",
       "    <tr>\n",
       "      <th>2531</th>\n",
       "      <td>250235.0</td>\n",
       "      <td>100.000000</td>\n",
       "      <td>3.810369</td>\n",
       "      <td>3.686572</td>\n",
       "      <td>6.000000e+00</td>\n",
       "      <td>0</td>\n",
       "      <td>Thủ Đức</td>\n",
       "      <td>TP Hồ Chí Minh</td>\n",
       "    </tr>\n",
       "    <tr>\n",
       "      <th>2532</th>\n",
       "      <td>249841.0</td>\n",
       "      <td>52.000000</td>\n",
       "      <td>3.000000</td>\n",
       "      <td>2.000000</td>\n",
       "      <td>3.480000e+00</td>\n",
       "      <td>0</td>\n",
       "      <td>Quận 12</td>\n",
       "      <td>TP Hồ Chí Minh</td>\n",
       "    </tr>\n",
       "    <tr>\n",
       "      <th>2533</th>\n",
       "      <td>247475.0</td>\n",
       "      <td>60.000000</td>\n",
       "      <td>1.000000</td>\n",
       "      <td>1.000000</td>\n",
       "      <td>1.100000e+00</td>\n",
       "      <td>0</td>\n",
       "      <td>Bình Chánh</td>\n",
       "      <td>TP Hồ Chí Minh</td>\n",
       "    </tr>\n",
       "  </tbody>\n",
       "</table>\n",
       "<p>2534 rows × 8 columns</p>\n",
       "</div>"
      ],
      "text/plain": [
       "            ID     acreage     so_PN     so_WC         price  frontage  \\\n",
       "0     269453.0   37.000000  3.582853  3.541626  1.494148e+08         1   \n",
       "1     269452.0   20.000000  3.521429  3.502606  1.494148e+08         0   \n",
       "2     269451.0   77.004163  3.727395  3.633447  1.494148e+08         0   \n",
       "3     269450.0   77.004163  3.727395  3.633447  1.494148e+08         0   \n",
       "4     269449.0   77.004163  3.727395  3.633447  1.494148e+08         0   \n",
       "...        ...         ...       ...       ...           ...       ...   \n",
       "2529  250238.0   54.000000  5.000000  3.000000  4.950000e+00         0   \n",
       "2530  250237.0   50.000000  3.629710  3.571808  7.500000e+00         0   \n",
       "2531  250235.0  100.000000  3.810369  3.686572  6.000000e+00         0   \n",
       "2532  249841.0   52.000000  3.000000  2.000000  3.480000e+00         0   \n",
       "2533  247475.0   60.000000  1.000000  1.000000  1.100000e+00         0   \n",
       "\n",
       "             area            city  \n",
       "0     Bắc Từ Liêm          Hà Nội  \n",
       "1     Bắc Từ Liêm          Hà Nội  \n",
       "2     Bắc Từ Liêm          Hà Nội  \n",
       "3     Bắc Từ Liêm          Hà Nội  \n",
       "4     Nam Từ Liêm          Hà Nội  \n",
       "...           ...             ...  \n",
       "2529    Hoàng Mai          Hà Nội  \n",
       "2530      Đống Đa          Hà Nội  \n",
       "2531      Thủ Đức  TP Hồ Chí Minh  \n",
       "2532      Quận 12  TP Hồ Chí Minh  \n",
       "2533   Bình Chánh  TP Hồ Chí Minh  \n",
       "\n",
       "[2534 rows x 8 columns]"
      ]
     },
     "execution_count": 26,
     "metadata": {},
     "output_type": "execute_result"
    }
   ],
   "source": [
    "house_data"
   ]
  },
  {
   "cell_type": "code",
   "execution_count": 27,
   "id": "550867e7",
   "metadata": {},
   "outputs": [
    {
     "data": {
      "text/plain": [
       "<Axes: >"
      ]
     },
     "execution_count": 27,
     "metadata": {},
     "output_type": "execute_result"
    },
    {
     "data": {
      "image/png": "[encoded data removed]",
      "text/plain": [
       "<Figure size 640x480 with 1 Axes>"
      ]
     },
     "metadata": {},
     "output_type": "display_data"
    }
   ],
   "source": [
    "sns.heatmap(house_data.isnull(),yticklabels = False,cbar = False)"
   ]
  },
  {
   "cell_type": "code",
   "execution_count": 28,
   "id": "3f07213d",
   "metadata": {},
   "outputs": [],
   "source": [
    "house_data.to_csv('house_final.csv')"
   ]
  },
  {
   "cell_type": "code",
   "execution_count": 45,
   "id": "4f5bdf51",
   "metadata": {},
   "outputs": [],
   "source": [
    "df=pd.read_csv(\"house_final2.csv\")"
   ]
  },
  {
   "cell_type": "markdown",
   "id": "e4e3e087",
   "metadata": {},
   "source": []
  },
  {
   "cell_type": "code",
   "execution_count": 50,
   "id": "a124948c",
   "metadata": {},
   "outputs": [],
   "source": [
    "df=df.drop(columns=['ID'])"
   ]
  },
  {
   "cell_type": "code",
   "execution_count": 51,
   "id": "ca4d5587",
   "metadata": {},
   "outputs": [
    {
     "data": {
      "text/html": [
       "<div>\n",
       "<style scoped>\n",
       "    .dataframe tbody tr th:only-of-type {\n",
       "        vertical-align: middle;\n",
       "    }\n",
       "\n",
       "    .dataframe tbody tr th {\n",
       "        vertical-align: top;\n",
       "    }\n",
       "\n",
       "    .dataframe thead th {\n",
       "        text-align: right;\n",
       "    }\n",
       "</style>\n",
       "<table border=\"1\" class=\"dataframe\">\n",
       "  <thead>\n",
       "    <tr style=\"text-align: right;\">\n",
       "      <th></th>\n",
       "      <th>acreage</th>\n",
       "      <th>so_PN</th>\n",
       "      <th>so_WC</th>\n",
       "      <th>price</th>\n",
       "      <th>frontage</th>\n",
       "      <th>area</th>\n",
       "      <th>city</th>\n",
       "    </tr>\n",
       "  </thead>\n",
       "  <tbody>\n",
       "    <tr>\n",
       "      <th>0</th>\n",
       "      <td>37.000000</td>\n",
       "      <td>3.582853</td>\n",
       "      <td>3.541626</td>\n",
       "      <td>1.494148e+08</td>\n",
       "      <td>1</td>\n",
       "      <td>Bắc Từ Liêm</td>\n",
       "      <td>Hà Nội</td>\n",
       "    </tr>\n",
       "    <tr>\n",
       "      <th>1</th>\n",
       "      <td>20.000000</td>\n",
       "      <td>3.521429</td>\n",
       "      <td>3.502606</td>\n",
       "      <td>1.494148e+08</td>\n",
       "      <td>0</td>\n",
       "      <td>Bắc Từ Liêm</td>\n",
       "      <td>Hà Nội</td>\n",
       "    </tr>\n",
       "    <tr>\n",
       "      <th>2</th>\n",
       "      <td>77.004163</td>\n",
       "      <td>3.727395</td>\n",
       "      <td>3.633447</td>\n",
       "      <td>1.494148e+08</td>\n",
       "      <td>0</td>\n",
       "      <td>Bắc Từ Liêm</td>\n",
       "      <td>Hà Nội</td>\n",
       "    </tr>\n",
       "    <tr>\n",
       "      <th>3</th>\n",
       "      <td>77.004163</td>\n",
       "      <td>3.727395</td>\n",
       "      <td>3.633447</td>\n",
       "      <td>1.494148e+08</td>\n",
       "      <td>0</td>\n",
       "      <td>Bắc Từ Liêm</td>\n",
       "      <td>Hà Nội</td>\n",
       "    </tr>\n",
       "    <tr>\n",
       "      <th>4</th>\n",
       "      <td>77.004163</td>\n",
       "      <td>3.727395</td>\n",
       "      <td>3.633447</td>\n",
       "      <td>1.494148e+08</td>\n",
       "      <td>0</td>\n",
       "      <td>Nam Từ Liêm</td>\n",
       "      <td>Hà Nội</td>\n",
       "    </tr>\n",
       "    <tr>\n",
       "      <th>...</th>\n",
       "      <td>...</td>\n",
       "      <td>...</td>\n",
       "      <td>...</td>\n",
       "      <td>...</td>\n",
       "      <td>...</td>\n",
       "      <td>...</td>\n",
       "      <td>...</td>\n",
       "    </tr>\n",
       "    <tr>\n",
       "      <th>2529</th>\n",
       "      <td>54.000000</td>\n",
       "      <td>5.000000</td>\n",
       "      <td>3.000000</td>\n",
       "      <td>4.950000e+00</td>\n",
       "      <td>0</td>\n",
       "      <td>Hoàng Mai</td>\n",
       "      <td>Hà Nội</td>\n",
       "    </tr>\n",
       "    <tr>\n",
       "      <th>2530</th>\n",
       "      <td>50.000000</td>\n",
       "      <td>3.629710</td>\n",
       "      <td>3.571808</td>\n",
       "      <td>7.500000e+00</td>\n",
       "      <td>0</td>\n",
       "      <td>Đống Đa</td>\n",
       "      <td>Hà Nội</td>\n",
       "    </tr>\n",
       "    <tr>\n",
       "      <th>2531</th>\n",
       "      <td>100.000000</td>\n",
       "      <td>3.810369</td>\n",
       "      <td>3.686572</td>\n",
       "      <td>6.000000e+00</td>\n",
       "      <td>0</td>\n",
       "      <td>Thủ Đức</td>\n",
       "      <td>TP Hồ Chí Minh</td>\n",
       "    </tr>\n",
       "    <tr>\n",
       "      <th>2532</th>\n",
       "      <td>52.000000</td>\n",
       "      <td>3.000000</td>\n",
       "      <td>2.000000</td>\n",
       "      <td>3.480000e+00</td>\n",
       "      <td>0</td>\n",
       "      <td>Quận 12</td>\n",
       "      <td>TP Hồ Chí Minh</td>\n",
       "    </tr>\n",
       "    <tr>\n",
       "      <th>2533</th>\n",
       "      <td>60.000000</td>\n",
       "      <td>1.000000</td>\n",
       "      <td>1.000000</td>\n",
       "      <td>1.100000e+00</td>\n",
       "      <td>0</td>\n",
       "      <td>Bình Chánh</td>\n",
       "      <td>TP Hồ Chí Minh</td>\n",
       "    </tr>\n",
       "  </tbody>\n",
       "</table>\n",
       "<p>2534 rows × 7 columns</p>\n",
       "</div>"
      ],
      "text/plain": [
       "         acreage     so_PN     so_WC         price  frontage         area  \\\n",
       "0      37.000000  3.582853  3.541626  1.494148e+08         1  Bắc Từ Liêm   \n",
       "1      20.000000  3.521429  3.502606  1.494148e+08         0  Bắc Từ Liêm   \n",
       "2      77.004163  3.727395  3.633447  1.494148e+08         0  Bắc Từ Liêm   \n",
       "3      77.004163  3.727395  3.633447  1.494148e+08         0  Bắc Từ Liêm   \n",
       "4      77.004163  3.727395  3.633447  1.494148e+08         0  Nam Từ Liêm   \n",
       "...          ...       ...       ...           ...       ...          ...   \n",
       "2529   54.000000  5.000000  3.000000  4.950000e+00         0    Hoàng Mai   \n",
       "2530   50.000000  3.629710  3.571808  7.500000e+00         0      Đống Đa   \n",
       "2531  100.000000  3.810369  3.686572  6.000000e+00         0      Thủ Đức   \n",
       "2532   52.000000  3.000000  2.000000  3.480000e+00         0      Quận 12   \n",
       "2533   60.000000  1.000000  1.000000  1.100000e+00         0   Bình Chánh   \n",
       "\n",
       "                city  \n",
       "0             Hà Nội  \n",
       "1             Hà Nội  \n",
       "2             Hà Nội  \n",
       "3             Hà Nội  \n",
       "4             Hà Nội  \n",
       "...              ...  \n",
       "2529          Hà Nội  \n",
       "2530          Hà Nội  \n",
       "2531  TP Hồ Chí Minh  \n",
       "2532  TP Hồ Chí Minh  \n",
       "2533  TP Hồ Chí Minh  \n",
       "\n",
       "[2534 rows x 7 columns]"
      ]
     },
     "execution_count": 51,
     "metadata": {},
     "output_type": "execute_result"
    }
   ],
   "source": [
    "df"
   ]
  },
  {
   "cell_type": "code",
   "execution_count": 1,
   "id": "09113e1e",
   "metadata": {},
   "outputs": [
    {
     "name": "stdout",
     "output_type": "stream",
     "text": [
      "<class 'pandas.core.frame.DataFrame'>\n",
      "RangeIndex: 1160 entries, 0 to 1159\n",
      "Data columns (total 9 columns):\n",
      " #   Column      Non-Null Count  Dtype  \n",
      "---  ------      --------------  -----  \n",
      " 0   Unnamed: 0  1160 non-null   int64  \n",
      " 1   ID          1160 non-null   int64  \n",
      " 2   acreage     1160 non-null   float64\n",
      " 3   so_PN       1160 non-null   float64\n",
      " 4   so_WC       1160 non-null   float64\n",
      " 5   price       1160 non-null   float64\n",
      " 6   frontage    1160 non-null   int64  \n",
      " 7   area        1160 non-null   object \n",
      " 8   city        1160 non-null   object \n",
      "dtypes: float64(4), int64(3), object(2)\n",
      "memory usage: 81.7+ KB\n"
     ]
    }
   ],
   "source": [
    "import pandas as pd\n",
    "import numpy as np\n",
    "from sklearn.preprocessing import LabelEncoder\n",
    "\n",
    "df = pd.read_csv(\"house_final.csv\")\n",
    "df.info()"
   ]
  },
  {
   "cell_type": "code",
   "execution_count": 53,
   "id": "fb97f84e",
   "metadata": {},
   "outputs": [
    {
     "data": {
      "text/plain": [
       "<AxesSubplot: >"
      ]
     },
     "execution_count": 53,
     "metadata": {},
     "output_type": "execute_result"
    },
    {
     "data": {
      "image/png": "[encoded data removed]",
      "text/plain": [
       "<Figure size 640x480 with 2 Axes>"
      ]
     },
     "metadata": {},
     "output_type": "display_data"
    }
   ],
   "source": [
    "\n",
    "import seaborn as sns\n",
    "sns.heatmap(df.corr(),annot=True, cmap=\"YlGnBu\")"
   ]
  },
  {
   "cell_type": "code",
   "execution_count": 2,
   "id": "81496f3b",
   "metadata": {},
   "outputs": [],
   "source": [
    "# Gán lại giá trị int cho các dữ liệu object\n",
    "\n",
    "le = LabelEncoder()\n",
    "is_Category = df.dtypes == object\n",
    "category_column_list = df.columns[is_Category].tolist()\n",
    "df[category_column_list] = df[category_column_list].apply(lambda col: le.fit_transform(col))"
   ]
  },
  {
   "cell_type": "markdown",
   "id": "620f6dd4",
   "metadata": {},
   "source": [
    "# Training Models"
   ]
  },
  {
   "cell_type": "markdown",
   "id": "db90fea3",
   "metadata": {},
   "source": [
    "## Chia dữ liệu thành các tập train, test"
   ]
  },
  {
   "cell_type": "code",
   "execution_count": 3,
   "id": "01fcaf46",
   "metadata": {},
   "outputs": [],
   "source": [
    "from sklearn import datasets\n",
    "from sklearn.model_selection import train_test_split\n",
    "from sklearn.pipeline import make_pipeline\n",
    "from sklearn.ensemble import GradientBoostingRegressor\n",
    "from sklearn.decomposition import PCA\n",
    "from sklearn.metrics import mean_squared_error\n",
    "\n",
    "X = df.drop(columns='price')\n",
    "y = df['price']\n",
    "\n",
    "X_train, X_test, y_train, y_test = train_test_split(X, y, test_size = 0.2, random_state = 100)\n",
    "     "
   ]
  },
  {
   "cell_type": "markdown",
   "id": "d96c9e31",
   "metadata": {},
   "source": [
    "## Chuẩn hóa dữ liệu"
   ]
  },
  {
   "cell_type": "code",
   "execution_count": 4,
   "id": "2adedad2",
   "metadata": {},
   "outputs": [],
   "source": [
    "from sklearn.preprocessing import  StandardScaler\n",
    "\n",
    "sc=StandardScaler()\n",
    "sc.fit(X_train)\n",
    "X_train = sc.transform(X_train)\n",
    "X_test = sc.transform(X_test)"
   ]
  },
  {
   "cell_type": "code",
   "execution_count": 5,
   "id": "1a535447",
   "metadata": {},
   "outputs": [],
   "source": [
    "from sklearn.impute import SimpleImputer\n",
    "from sklearn.preprocessing import StandardScaler\n",
    "\n",
    "# Kiểm tra và xử lý giá trị NaN\n",
    "nan_imputer = SimpleImputer(missing_values=np.nan, strategy='mean')\n",
    "X = nan_imputer.fit_transform(X)\n",
    "\n",
    "# Kiểm tra và xử lý giá trị vô cùng\n",
    "X = np.nan_to_num(X, nan=0, posinf=np.finfo(np.float64).max, neginf=np.finfo(np.float64).min)\n",
    "\n",
    "# Chuẩn hóa dữ liệu\n",
    "scaler = StandardScaler()\n",
    "X = scaler.fit_transform(X)"
   ]
  },
  {
   "cell_type": "markdown",
   "id": "f7c69d72",
   "metadata": {},
   "source": [
    "## Linear Regression"
   ]
  },
  {
   "cell_type": "code",
   "execution_count": 6,
   "id": "f2e8b487",
   "metadata": {},
   "outputs": [
    {
     "data": {
      "text/plain": [
       "LinearRegression()"
      ]
     },
     "execution_count": 6,
     "metadata": {},
     "output_type": "execute_result"
    }
   ],
   "source": [
    "from sklearn.linear_model import LinearRegression\n",
    "lr = LinearRegression()\n",
    "lr.fit(X_train, y_train)"
   ]
  },
  {
   "cell_type": "code",
   "execution_count": 7,
   "id": "5e915b57",
   "metadata": {},
   "outputs": [],
   "source": [
    "### Dự đoán bằng cách áp model Linear Regression\n",
    "y_lr_train_pred = lr.predict(X_train)\n",
    "y_lr_test_pred = lr.predict(X_test)"
   ]
  },
  {
   "cell_type": "code",
   "execution_count": 8,
   "id": "90021c08",
   "metadata": {},
   "outputs": [],
   "source": [
    "from sklearn.metrics import mean_squared_error, mean_absolute_error, r2_score\n",
    "from math import sqrt"
   ]
  },
  {
   "cell_type": "markdown",
   "id": "22c48e57",
   "metadata": {},
   "source": [
    "#### MSE"
   ]
  },
  {
   "cell_type": "code",
   "execution_count": 9,
   "id": "0a29996e",
   "metadata": {},
   "outputs": [
    {
     "name": "stdout",
     "output_type": "stream",
     "text": [
      "LR MSE (Train):  1.7797093075450604e+18\n",
      "LR MSE (Test):  9.422914326976543e+17\n"
     ]
    }
   ],
   "source": [
    "lr_train_mse = mean_squared_error(y_train, y_lr_train_pred)\n",
    "lr_test_mse = mean_squared_error(y_test, y_lr_test_pred)\n",
    "print('LR MSE (Train): ', lr_train_mse)\n",
    "print('LR MSE (Test): ', lr_test_mse)"
   ]
  },
  {
   "cell_type": "markdown",
   "id": "426d6cdc",
   "metadata": {},
   "source": [
    "#### RMSE"
   ]
  },
  {
   "cell_type": "code",
   "execution_count": 10,
   "id": "b86811a7",
   "metadata": {},
   "outputs": [
    {
     "name": "stdout",
     "output_type": "stream",
     "text": [
      "LR RMSE (Train):  1334057460.361082\n",
      "LR RMSE (Test):  970716968.3783499\n"
     ]
    }
   ],
   "source": [
    "#rms = sqrt(mean_squared_error(y_actual, y_predicted))\n",
    "lr_train_rmse = sqrt(mean_squared_error(y_train, y_lr_train_pred))\n",
    "lr_test_rmse = sqrt(mean_squared_error(y_test, y_lr_test_pred))\n",
    "print('LR RMSE (Train): ', lr_train_rmse)\n",
    "print('LR RMSE (Test): ', lr_test_rmse)"
   ]
  },
  {
   "cell_type": "markdown",
   "id": "0978cc4d",
   "metadata": {},
   "source": [
    "#### MAE"
   ]
  },
  {
   "cell_type": "code",
   "execution_count": 11,
   "id": "e56a7400",
   "metadata": {},
   "outputs": [
    {
     "name": "stdout",
     "output_type": "stream",
     "text": [
      "LR MAE (Train):  358821573.1191792\n",
      "LR MAE (Test):  361225573.4932723\n"
     ]
    }
   ],
   "source": [
    "lr_train_mae = mean_absolute_error(y_train, y_lr_train_pred)\n",
    "lr_test_mae = mean_absolute_error(y_test, y_lr_test_pred)\n",
    "print('LR MAE (Train): ', lr_train_mae)\n",
    "print('LR MAE (Test): ', lr_test_mae)"
   ]
  },
  {
   "cell_type": "markdown",
   "id": "cdbf3a10",
   "metadata": {},
   "source": [
    "#### R2S"
   ]
  },
  {
   "cell_type": "code",
   "execution_count": 12,
   "id": "78dd36d7",
   "metadata": {},
   "outputs": [
    {
     "name": "stdout",
     "output_type": "stream",
     "text": [
      "LR R2S (Train):  0.045061818317309155\n",
      "LR R2S (Test):  -0.07151238569784346\n"
     ]
    }
   ],
   "source": [
    "lr_train_r2s = r2_score(y_train, y_lr_train_pred)\n",
    "lr_test_r2s = r2_score(y_test, y_lr_test_pred)\n",
    "print('LR R2S (Train): ', lr_train_r2s)\n",
    "print('LR R2S (Test): ', lr_test_r2s)"
   ]
  },
  {
   "cell_type": "markdown",
   "id": "93f0e347",
   "metadata": {},
   "source": [
    "## Ridge Regression"
   ]
  },
  {
   "cell_type": "code",
   "execution_count": 13,
   "id": "afbbad30",
   "metadata": {},
   "outputs": [
    {
     "data": {
      "text/plain": [
       "Ridge()"
      ]
     },
     "execution_count": 13,
     "metadata": {},
     "output_type": "execute_result"
    }
   ],
   "source": [
    "from sklearn.linear_model import Ridge\n",
    "rr = Ridge()\n",
    "rr.fit(X_train, y_train)"
   ]
  },
  {
   "cell_type": "code",
   "execution_count": 14,
   "id": "8d8b79d5",
   "metadata": {},
   "outputs": [],
   "source": [
    "### Dự đoán bằng cách áp model Ridge Regression\n",
    "y_rr_train_pred = rr.predict(X_train)\n",
    "y_rr_test_pred = rr.predict(X_test)"
   ]
  },
  {
   "cell_type": "markdown",
   "id": "75fe1e7c",
   "metadata": {},
   "source": [
    "#### MSE"
   ]
  },
  {
   "cell_type": "code",
   "execution_count": 15,
   "id": "ed3dde79",
   "metadata": {},
   "outputs": [
    {
     "name": "stdout",
     "output_type": "stream",
     "text": [
      "RR MSE (Train):  1.780186302454173e+18\n",
      "RR MSE (Test):  9.378860960459638e+17\n"
     ]
    }
   ],
   "source": [
    "rr_train_mse = mean_squared_error(y_train, y_rr_train_pred)\n",
    "rr_test_mse = mean_squared_error(y_test, y_rr_test_pred)\n",
    "print('RR MSE (Train): ', rr_train_mse)\n",
    "print('RR MSE (Test): ', rr_test_mse)"
   ]
  },
  {
   "cell_type": "markdown",
   "id": "22016955",
   "metadata": {},
   "source": [
    "#### RMSE"
   ]
  },
  {
   "cell_type": "code",
   "execution_count": 16,
   "id": "faaaabdc",
   "metadata": {},
   "outputs": [
    {
     "name": "stdout",
     "output_type": "stream",
     "text": [
      "RR RMSE (Train):  1334236224.382389\n",
      "RR RMSE (Test):  968445195.1690214\n"
     ]
    }
   ],
   "source": [
    "rr_train_rmse = sqrt(mean_squared_error(y_train, y_rr_train_pred))\n",
    "rr_test_rmse = sqrt(mean_squared_error(y_test, y_rr_test_pred))\n",
    "print('RR RMSE (Train): ', rr_train_rmse)\n",
    "print('RR RMSE (Test): ', rr_test_rmse)"
   ]
  },
  {
   "cell_type": "markdown",
   "id": "a98ddec1",
   "metadata": {},
   "source": [
    "#### MAE"
   ]
  },
  {
   "cell_type": "code",
   "execution_count": 17,
   "id": "340dcd50",
   "metadata": {},
   "outputs": [
    {
     "name": "stdout",
     "output_type": "stream",
     "text": [
      "RR MAE (Train):  355418953.3822769\n",
      "RR MAE (Test):  356624552.0959633\n"
     ]
    }
   ],
   "source": [
    "rr_train_mae = mean_absolute_error(y_train, y_rr_train_pred)\n",
    "rr_test_mae = mean_absolute_error(y_test, y_rr_test_pred)\n",
    "print('RR MAE (Train): ', rr_train_mae)\n",
    "print('RR MAE (Test): ', rr_test_mae)"
   ]
  },
  {
   "cell_type": "markdown",
   "id": "afde1a61",
   "metadata": {},
   "source": [
    "#### R2S"
   ]
  },
  {
   "cell_type": "code",
   "execution_count": 18,
   "id": "c1c2f632",
   "metadata": {},
   "outputs": [
    {
     "name": "stdout",
     "output_type": "stream",
     "text": [
      "RR R2S (Train):  0.04480587727724794\n",
      "RR R2S (Test):  -0.06650292405820912\n"
     ]
    }
   ],
   "source": [
    "rr_train_r2s = r2_score(y_train, y_rr_train_pred)\n",
    "rr_test_r2s = r2_score(y_test, y_rr_test_pred)\n",
    "print('RR R2S (Train): ', rr_train_r2s)\n",
    "print('RR R2S (Test): ', rr_test_r2s)"
   ]
  },
  {
   "cell_type": "markdown",
   "id": "54f1de2c",
   "metadata": {},
   "source": [
    "## Lasso Regression"
   ]
  },
  {
   "cell_type": "code",
   "execution_count": 19,
   "id": "ba994f41",
   "metadata": {},
   "outputs": [
    {
     "name": "stderr",
     "output_type": "stream",
     "text": [
      "C:\\Users\\Admin\\anaconda3\\lib\\site-packages\\sklearn\\linear_model\\_coordinate_descent.py:647: ConvergenceWarning: Objective did not converge. You might want to increase the number of iterations, check the scale of the features or consider increasing regularisation. Duality gap: 8.258e+20, tolerance: 1.730e+17\n",
      "  model = cd_fast.enet_coordinate_descent(\n"
     ]
    },
    {
     "data": {
      "text/plain": [
       "Lasso()"
      ]
     },
     "execution_count": 19,
     "metadata": {},
     "output_type": "execute_result"
    }
   ],
   "source": [
    "from sklearn.linear_model import Lasso\n",
    "\n",
    "ls = Lasso(alpha=1.0)\n",
    "ls.fit(X_train, y_train)"
   ]
  },
  {
   "cell_type": "code",
   "execution_count": 20,
   "id": "f479ab8d",
   "metadata": {},
   "outputs": [],
   "source": [
    "### Dự đoán bằng cách áp model Lasso Regression\n",
    "y_ls_train_pred = ls.predict(X_train)\n",
    "y_ls_test_pred = ls.predict(X_test)"
   ]
  },
  {
   "cell_type": "markdown",
   "id": "68b44c37",
   "metadata": {},
   "source": [
    "#### MSE"
   ]
  },
  {
   "cell_type": "code",
   "execution_count": 21,
   "id": "f2b0b7a6",
   "metadata": {},
   "outputs": [
    {
     "name": "stdout",
     "output_type": "stream",
     "text": [
      "LS MSE (Train):  1.7797106193388726e+18\n",
      "LS MSE (Test):  9.420627695498789e+17\n"
     ]
    }
   ],
   "source": [
    "ls_train_mse = mean_squared_error(y_train, y_ls_train_pred)\n",
    "ls_test_mse = mean_squared_error(y_test, y_ls_test_pred)\n",
    "print('LS MSE (Train): ', ls_train_mse)\n",
    "print('LS MSE (Test): ', ls_test_mse)"
   ]
  },
  {
   "cell_type": "markdown",
   "id": "d2f8cbad",
   "metadata": {},
   "source": [
    "#### RMSE"
   ]
  },
  {
   "cell_type": "code",
   "execution_count": 22,
   "id": "a5bbf5b3",
   "metadata": {},
   "outputs": [
    {
     "name": "stdout",
     "output_type": "stream",
     "text": [
      "LS RMSE (Train):  1334057952.0166552\n",
      "LS RMSE (Test):  970599180.6867956\n"
     ]
    }
   ],
   "source": [
    "ls_train_rmse = sqrt(mean_squared_error(y_train, y_ls_train_pred))\n",
    "ls_test_rmse = sqrt(mean_squared_error(y_test, y_ls_test_pred))\n",
    "print('LS RMSE (Train): ', ls_train_rmse)\n",
    "print('LS RMSE (Test): ', ls_test_rmse)"
   ]
  },
  {
   "cell_type": "markdown",
   "id": "bf4d5fae",
   "metadata": {},
   "source": [
    "#### MAE"
   ]
  },
  {
   "cell_type": "code",
   "execution_count": 23,
   "id": "3a4d69de",
   "metadata": {},
   "outputs": [
    {
     "name": "stdout",
     "output_type": "stream",
     "text": [
      "LS MAE (Train):  358625746.06477857\n",
      "LS MAE (Test):  361001308.1457367\n"
     ]
    }
   ],
   "source": [
    "ls_train_mae = mean_absolute_error(y_train, y_ls_train_pred)\n",
    "ls_test_mae = mean_absolute_error(y_test, y_ls_test_pred)\n",
    "print('LS MAE (Train): ', ls_train_mae)\n",
    "print('LS MAE (Test): ', ls_test_mae)"
   ]
  },
  {
   "cell_type": "markdown",
   "id": "a001e407",
   "metadata": {},
   "source": [
    "#### R2S"
   ]
  },
  {
   "cell_type": "code",
   "execution_count": 24,
   "id": "9086a461",
   "metadata": {},
   "outputs": [
    {
     "name": "stdout",
     "output_type": "stream",
     "text": [
      "LS R2S (Train):  0.04506111444842875\n",
      "LS R2S (Test):  -0.07125236487361453\n"
     ]
    }
   ],
   "source": [
    "ls_train_r2s = r2_score(y_train, y_ls_train_pred)\n",
    "ls_test_r2s = r2_score(y_test, y_ls_test_pred)\n",
    "print('LS R2S (Train): ', ls_train_r2s)\n",
    "print('LS R2S (Test): ', ls_test_r2s)"
   ]
  },
  {
   "cell_type": "markdown",
   "id": "e70cd01d",
   "metadata": {},
   "source": [
    "## Random Forest"
   ]
  },
  {
   "cell_type": "code",
   "execution_count": 41,
   "id": "6007a7e3",
   "metadata": {},
   "outputs": [],
   "source": [
    "from sklearn.ensemble import RandomForestRegressor\n",
    "\n",
    "rf = RandomForestRegressor(n_estimators=1000, max_depth=5, bootstrap=True, random_state=2023, verbose=False, n_jobs=12).fit(X_train, y_train)"
   ]
  },
  {
   "cell_type": "code",
   "execution_count": 42,
   "id": "cb3c8f51",
   "metadata": {},
   "outputs": [],
   "source": [
    "y_rf_train_pred = rf.predict(X_train)\n",
    "y_rf_test_pred = rf.predict(X_test)"
   ]
  },
  {
   "cell_type": "markdown",
   "id": "3a435711",
   "metadata": {},
   "source": [
    "#### MSE"
   ]
  },
  {
   "cell_type": "code",
   "execution_count": 40,
   "id": "dab92938",
   "metadata": {},
   "outputs": [
    {
     "name": "stdout",
     "output_type": "stream",
     "text": [
      "RF MSE (Train):  3.5389126826570054e+17\n",
      "RF MSE (Test):  6.50964247953049e+17\n"
     ]
    }
   ],
   "source": [
    "rf_train_mse = mean_squared_error(y_train, y_rf_train_pred)\n",
    "rf_test_mse = mean_squared_error(y_test, y_rf_test_pred)\n",
    "print('RF MSE (Train): ', rf_train_mse)\n",
    "print('RF MSE (Test): ', rf_test_mse)"
   ]
  },
  {
   "cell_type": "markdown",
   "id": "720c6f34",
   "metadata": {},
   "source": [
    "#### RMSE"
   ]
  },
  {
   "cell_type": "code",
   "execution_count": 28,
   "id": "2e159583",
   "metadata": {},
   "outputs": [
    {
     "name": "stdout",
     "output_type": "stream",
     "text": [
      "RF RMSE (Train):  594887609.7765868\n",
      "RF RMSE (Test):  806823554.4114022\n"
     ]
    }
   ],
   "source": [
    "rf_train_rmse = sqrt(mean_squared_error(y_train, y_rf_train_pred))\n",
    "rf_test_rmse = sqrt(mean_squared_error(y_test, y_rf_test_pred))\n",
    "print('RF RMSE (Train): ', rf_train_rmse)\n",
    "print('RF RMSE (Test): ', rf_test_rmse)"
   ]
  },
  {
   "cell_type": "markdown",
   "id": "cc11275c",
   "metadata": {},
   "source": [
    "#### MAE"
   ]
  },
  {
   "cell_type": "code",
   "execution_count": 29,
   "id": "a18feee1",
   "metadata": {},
   "outputs": [
    {
     "name": "stdout",
     "output_type": "stream",
     "text": [
      "RF MAE (Train):  139571432.48448148\n",
      "RF MAE (Test):  241020774.0123479\n"
     ]
    }
   ],
   "source": [
    "rf_train_mae = mean_absolute_error(y_train, y_rf_train_pred)\n",
    "rf_test_mae = mean_absolute_error(y_test, y_rf_test_pred)\n",
    "print('RF MAE (Train): ', rf_train_mae)\n",
    "print('RF MAE (Test): ', rf_test_mae)"
   ]
  },
  {
   "cell_type": "markdown",
   "id": "c39bdaec",
   "metadata": {},
   "source": [
    "#### R2S"
   ]
  },
  {
   "cell_type": "code",
   "execution_count": 30,
   "id": "4a5c1437",
   "metadata": {},
   "outputs": [
    {
     "name": "stdout",
     "output_type": "stream",
     "text": [
      "RF R2S (Train):  0.8101126499713645\n",
      "RF R2S (Test):  0.259765896065426\n"
     ]
    }
   ],
   "source": [
    "rf_train_r2s = r2_score(y_train, y_rf_train_pred)\n",
    "rf_test_r2s = r2_score(y_test, y_rf_test_pred)\n",
    "print('RF R2S (Train): ', rf_train_r2s)\n",
    "print('RF R2S (Test): ', rf_test_r2s)"
   ]
  },
  {
   "cell_type": "markdown",
   "id": "36975117",
   "metadata": {},
   "source": [
    "## Gradient Boost"
   ]
  },
  {
   "cell_type": "code",
   "execution_count": 31,
   "id": "097fdc20",
   "metadata": {},
   "outputs": [
    {
     "data": {
      "text/plain": [
       "GradientBoostingRegressor()"
      ]
     },
     "execution_count": 31,
     "metadata": {},
     "output_type": "execute_result"
    }
   ],
   "source": [
    "from sklearn.ensemble import GradientBoostingRegressor\n",
    "\n",
    "gb = GradientBoostingRegressor()\n",
    "gb.fit(X_train, y_train)"
   ]
  },
  {
   "cell_type": "code",
   "execution_count": 32,
   "id": "eefbaf1a",
   "metadata": {},
   "outputs": [],
   "source": [
    "y_gb_train_pred = rf.predict(X_train)\n",
    "y_gb_test_pred = rf.predict(X_test)"
   ]
  },
  {
   "cell_type": "markdown",
   "id": "8d927382",
   "metadata": {},
   "source": [
    "#### MSE"
   ]
  },
  {
   "cell_type": "code",
   "execution_count": 33,
   "id": "be0c824e",
   "metadata": {},
   "outputs": [
    {
     "name": "stdout",
     "output_type": "stream",
     "text": [
      "GB MSE (Train):  3.5389126826570054e+17\n",
      "GB MSE (Test):  6.50964247953049e+17\n"
     ]
    }
   ],
   "source": [
    "gb_train_mse = mean_squared_error(y_train, y_gb_train_pred)\n",
    "gb_test_mse = mean_squared_error(y_test, y_gb_test_pred)\n",
    "print('GB MSE (Train): ', gb_train_mse)\n",
    "print('GB MSE (Test): ', gb_test_mse)"
   ]
  },
  {
   "cell_type": "markdown",
   "id": "3bde3f9c",
   "metadata": {},
   "source": [
    "#### RMSE"
   ]
  },
  {
   "cell_type": "code",
   "execution_count": 34,
   "id": "366affb2",
   "metadata": {},
   "outputs": [
    {
     "name": "stdout",
     "output_type": "stream",
     "text": [
      "GB RMSE (Train):  594887609.7765868\n",
      "GB RMSE (Test):  806823554.4114022\n"
     ]
    }
   ],
   "source": [
    "gb_train_rmse = sqrt(mean_squared_error(y_train, y_gb_train_pred))\n",
    "gb_test_rmse = sqrt(mean_squared_error(y_test, y_gb_test_pred))\n",
    "print('GB RMSE (Train): ', gb_train_rmse)\n",
    "print('GB RMSE (Test): ', gb_test_rmse)"
   ]
  },
  {
   "cell_type": "markdown",
   "id": "1e999cea",
   "metadata": {},
   "source": [
    "#### MAE"
   ]
  },
  {
   "cell_type": "code",
   "execution_count": 35,
   "id": "682eb265",
   "metadata": {},
   "outputs": [
    {
     "name": "stdout",
     "output_type": "stream",
     "text": [
      "GB MAE (Train):  139571432.48448148\n",
      "GB MAE (Test):  241020774.0123479\n"
     ]
    }
   ],
   "source": [
    "gb_train_mae = mean_absolute_error(y_train, y_gb_train_pred)\n",
    "gb_test_mae = mean_absolute_error(y_test, y_gb_test_pred)\n",
    "print('GB MAE (Train): ', gb_train_mae)\n",
    "print('GB MAE (Test): ', gb_test_mae)"
   ]
  },
  {
   "cell_type": "markdown",
   "id": "617528a2",
   "metadata": {},
   "source": [
    "#### R2S"
   ]
  },
  {
   "cell_type": "code",
   "execution_count": 36,
   "id": "7121a643",
   "metadata": {},
   "outputs": [
    {
     "name": "stdout",
     "output_type": "stream",
     "text": [
      "GB R2S (Train):  0.8101126499713645\n",
      "GB R2S (Test):  0.259765896065426\n"
     ]
    }
   ],
   "source": [
    "gb_train_r2s = r2_score(y_train, y_gb_train_pred)\n",
    "gb_test_r2s = r2_score(y_test, y_gb_test_pred)\n",
    "print('GB R2S (Train): ', gb_train_r2s)\n",
    "print('GB R2S (Test): ', gb_test_r2s)"
   ]
  },
  {
   "cell_type": "code",
   "execution_count": 37,
   "id": "6229f854",
   "metadata": {},
   "outputs": [
    {
     "name": "stdout",
     "output_type": "stream",
     "text": [
      "LinearRegression\n",
      ">> Train R2-score:  0.045061818317309155\n",
      ">> Test R2-score:  -0.07151238569784346\n",
      "RidgeRegression\n",
      ">> Train R2-score:  0.04480587727724794\n",
      ">> Test R2-score:  -0.06650292405820912\n",
      "LassoRegression\n",
      ">> Train R2-score:  0.04506111444842875\n",
      ">> Test R2-score:  -0.07125236487361453\n",
      "RandomForest\n",
      ">> Train R2-score:  0.8101126499713645\n",
      ">> Test R2-score:  0.259765896065426\n",
      "GradientBoost\n",
      ">> Train R2-score:  0.8101126499713645\n",
      ">> Test R2-score:  0.259765896065426\n"
     ]
    }
   ],
   "source": [
    "print(\"LinearRegression\")\n",
    "\n",
    "print(\">> Train R2-score: \", lr_train_r2s)\n",
    "print(\">> Test R2-score: \", lr_test_r2s)\n",
    "\n",
    "print(\"RidgeRegression\")\n",
    "\n",
    "print(\">> Train R2-score: \", rr_train_r2s)\n",
    "print(\">> Test R2-score: \", rr_test_r2s)\n",
    "\n",
    "print(\"LassoRegression\")\n",
    "\n",
    "print(\">> Train R2-score: \", ls_train_r2s)\n",
    "print(\">> Test R2-score: \", ls_test_r2s)\n",
    "\n",
    "print(\"RandomForest\")\n",
    "\n",
    "print(\">> Train R2-score: \", rf_train_r2s)\n",
    "print(\">> Test R2-score: \", rf_test_r2s)\n",
    "\n",
    "print(\"GradientBoost\")\n",
    "\n",
    "print(\">> Train R2-score: \", gb_train_r2s)\n",
    "print(\">> Test R2-score: \", gb_test_r2s)\n"
   ]
  },
  {
   "cell_type": "markdown",
   "id": "f102fe6d",
   "metadata": {},
   "source": [
    "##### Nhóm em chọn đánh giá hiệu quả của các mô hình dựa trên R2-score (hệ số xác định R2) vì R2-score đo lường mức độ phù hợp giữa dữ liệu thực tế và dự đoán của mô hình. Giá trị R2-score nằm trong khoảng từ 0 đến 1, với giá trị 1 cho thấy mô hình hoàn toàn phù hợp với dữ liệu thực tế. Trong 5 models trên, cả Random Forest và Gradient Boost đều có hệ số R2-score ngang nhau. Tuy nhiên, em thiên về Gradient Boost hơn vì đây là model có khả năng thích nghi và học hỏi sai lầm tốt hơn."
   ]
  },
  {
   "cell_type": "code",
   "execution_count": null,
   "id": "871b5161",
   "metadata": {},
   "outputs": [],
   "source": []
  }
 ],
 "metadata": {
  "kernelspec": {
   "display_name": "Python 3 (ipykernel)",
   "language": "python",
   "name": "python3"
  },
  "language_info": {
   "codemirror_mode": {
    "name": "ipython",
    "version": 3
   },
   "file_extension": ".py",
   "mimetype": "text/x-python",
   "name": "python",
   "nbconvert_exporter": "python",
   "pygments_lexer": "ipython3",
   "version": "3.9.13"
  }
 },
 "nbformat": 4,
 "nbformat_minor": 5
}
